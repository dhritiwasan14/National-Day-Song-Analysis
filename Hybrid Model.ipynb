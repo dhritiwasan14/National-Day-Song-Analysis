{
 "cells": [
  {
   "cell_type": "code",
   "execution_count": 18,
   "metadata": {},
   "outputs": [
    {
     "name": "stderr",
     "output_type": "stream",
     "text": [
      "[nltk_data] Downloading package stopwords to\n",
      "[nltk_data]     /Users/dhritiwasan/nltk_data...\n",
      "[nltk_data]   Package stopwords is already up-to-date!\n",
      "[nltk_data] Downloading package punkt to\n",
      "[nltk_data]     /Users/dhritiwasan/nltk_data...\n",
      "[nltk_data]   Unzipping tokenizers/punkt.zip.\n"
     ]
    },
    {
     "data": {
      "text/plain": [
       "True"
      ]
     },
     "execution_count": 18,
     "metadata": {},
     "output_type": "execute_result"
    }
   ],
   "source": [
    "import nltk\n",
    "nltk.download('stopwords')\n",
    "nltk.download('punkt')"
   ]
  },
  {
   "cell_type": "code",
   "execution_count": 56,
   "metadata": {},
   "outputs": [],
   "source": [
    "import os\n",
    "import gensim\n",
    "\n",
    "# Load Google's pre-trained Word2Vec model.\n",
    "model = gensim.models.KeyedVectors.load_word2vec_format('GoogleNews-vectors-negative300.bin', binary=True)  \n",
    "\n",
    "stop_words = set(stopwords.words('english')) "
   ]
  },
  {
   "cell_type": "code",
   "execution_count": 57,
   "metadata": {},
   "outputs": [],
   "source": [
    "from nltk.stem import PorterStemmer\n",
    "from nltk.tokenize import word_tokenize\n",
    "from nltk.stem import WordNetLemmatizer\n",
    "ps = PorterStemmer()\n",
    "lemma = WordNetLemmatizer()"
   ]
  },
  {
   "cell_type": "code",
   "execution_count": 91,
   "metadata": {},
   "outputs": [
    {
     "name": "stdout",
     "output_type": "stream",
     "text": [
      "{'join', 'made', 'life', 'passed', 'merry', 'delightful', 'ahead', 'citizen', 'forevermore', 'esplanade', 'winding', 'beat', 'bring', 'happen', 'low', 'sure', 'free', 'think', 'determination', 'higher', 'kept', 'tell', 'limit', 'west', 'everything', 'time', 'catch', 'side', 'done', 'knew', 'even', 'hear', 'closest', 'never', 'forward', 'win', 'surely', 'shine', 'anything', 'hope', 'homeland', 'start', 'precious', 'bang', 'surprise', 'friend', 'spot', 'share', 'youll', 'prosperity', 'bombay', 'living', 'moving', 'fire', 'tame', 'perfect', 'pledge', 'experienced', 'peaceful', 'afraid', 'take', 'glory', 'sunrise', 'amazing', 'joy', 'wait', 'arising', 'strive', 'star', 'country', 'united', 'special', 'million', 'raise', 'snow', 'many', 'storm', 'reaching', 'head', 'face', 'tomorrow', 'dot', 'river', 'beyond', 'anew', 'exicted', 'people', 'tranquil', 'forever', 'swim', 'stride', 'heart', 'stay', 'lamp', 'danced', 'religion', 'little', 'open', 'youre', 'dozen', 'braved', 'around', 'great', 'scale', 'brand', 'far', 'tiny', 'remain', 'old', 'moved', 'recess', 'mankind', 'based', 'cause', 'toil', 'bold', 'care', 'horizon', 'sunny', 'way', 'test', 'could', 'dream', 'within', 'world', 'afar', 'shining', 'flight', 'come', 'believe', 'celebrate', 'child', 'step', 'bay', 'bright', 'easy', 'sun', 'live', 'grace', 'highest', 'sea', 'race', 'across', 'cross', 'tie', 'core', 'end', 'seen', 'miss', 'sail', 'role', 'safe', 'sing', 'wonderful', 'bloom', 'mountain', 'aspire', 'democratic', 'beauty', 'touch', 'renew', 'five', 'seven', 'glorious', 'loved', 'warm', 'trust', 'built', 'remember', 'forget', 'seize', 'lead', 'common', 'going', 'story', 'building', 'closer', 'sign', 'found', 'family', 'vision', 'believing', 'moon', 'learn', 'ring', 'faith', 'feeling', 'choose', 'grown', 'like', 'looking', 'bitter', 'night', 'different', 'thus', 'find', 'fine', 'first', 'part', 'wall', 'chorus', 'unforgettable', 'cared', 'upon', 'unsure', 'heartbeat', 'trouble', 'harmony', 'roll', 'crossed', 'progress', 'sharing', 'nowhere', 'echoing', 'brightly', 'smile', 'reality', 'moment', 'turn', 'street', 'struggled', 'lion', 'standing', 'heard', 'achieve', 'better', 'darkness', 'man', 'ago', 'play', 'today', 'someday', 'mind', 'rather', 'thought', 'warms', 'show', 'quay', 'gone', 'goal', 'justice', 'future', 'hour', 'peace', 'long', 'ready', 'singapore', 'marching', 'hand', 'along', 'deep', 'big', 'stood', 'gon', 'treasure', 'seemed', 'stranger', 'grow', 'rain', 'write', 'creed', 'stop', 'soul', 'conviction', 'real', 'alll', 'belongs', 'awaits', 'overcome', 'greets', 'nation', 'wan', 'wind', 'elsewhere', 'leap', 'guide', 'become', 'turning', 'stirred', 'sweet', 'youthful', 'bearing', 'high', 'experience', 'move', 'difference', 'call', 'spring', 'contribute', 'especially', 'unfold', 'help', 'ever', 'climbing', 'road', 'land', 'spirit', 'twinkling', 'still', 'get', 'undivided', 'fly', 'worthwhile', 'ben', 'air', 'strength', 'imagine', 'heat', 'accustomed', 'voice', 'morning', 'stormy', 'proud', 'queued', 'really', 'blend', 'however', 'eye', 'bird', 'laughter', 'towards', 'color', 'climbed', 'language', 'taste', 'matter', 'vast', 'count', 'enchanting', 'neon', 'history', 'grand', 'brighter', 'good', 'away', 'challenge', 'reach', 'recall', 'tried', 'greenery', 'drum', 'raffle', 'ocean', 'bravely', 'courage', 'everyone', 'strong', 'carried', 'shore', 'look', 'guiding', 'possible', 'sky', 'isle', 'lighting', 'yearning', 'young', 'thing', 'build', 'trip', 'belong', 'journey', 'one', 'flame', 'shared', 'flag', 'begin', 'carry', 'sunset', 'near', 'distance', 'bus', 'prepared', 'much', 'white', 'london', 'singaporean', 'nothing', 'whole', 'grew', 'comfort', 'cold', 'truth', 'something', 'see', 'alive', 'starting', 'calling', 'weather', 'renewed', 'creating', 'wanted', 'stand', 'climb', 'walk', 'loud', 'fellow', 'alone', 'together', 'told', 'meet', 'discovered', 'whenever', 'make', 'add', 'lively', 'home', 'let', 'sour', 'inside', 'hollywood', 'magic', 'stepping', 'equality', 'flow', 'true', 'sens', 'height', 'close', 'striving', 'hundred', 'refreshed', 'gather', 'opened', 'shout', 'fall', 'flying', 'wing', 'francisco', 'got', 'song', 'light', 'walked', 'dear', 'tall', 'kwai', 'wide', 'stage', 'every', 'set', 'give', 'lie', 'place', 'right', 'flower', 'corner', 'always', 'truly', 'beginning', 'put', 'dare', 'regardless', 'change', 'pure', 'back', 'brings', 'roamed', 'else', 'know', 'whether', 'beautiful', 'san', 'choice', 'name', 'said', 'hold', 'bridge', 'try', 'cairo', 'blood', 'memory', 'tower', 'seem', 'gem', 'roar', 'compare', 'thousand', 'dark', 'began', 'bind', 'dreaming', 'town', 'spain', 'society', 'broadway', 'yeah', 'others', 'wake', 'happy', 'singing', 'happiness', 'love', 'riverside', 'inspiration', 'best', 'rest', 'working', 'yes', 'everywhere', 'bell', 'day', 'soar', 'wherever', 'must', 'year', 'current', 'top', 'knowledge', 'pretty', 'started', 'stronger', 'walking', 'vigilance', 'seeing', 'okay', 'run', 'yet', 'faraway', 'city', 'keep', 'may', 'born', 'brave', 'finally', 'crimson', 'darkest', 'plain', 'island', 'seems', 'sight', 'crescent', 'rainbow', 'freedom', 'roam', 'destiny', 'book', 'sound', 'feel', 'new', 'wish', 'rocky', 'want', 'till', 'jewel'}\n"
     ]
    }
   ],
   "source": [
    "words = set()\n",
    "\n",
    "for f in sorted(os.listdir('songs')):\n",
    "    if f[0] == '.':\n",
    "        continue\n",
    "    \n",
    "    for i, l in enumerate(open('songs/' + f, 'r').readlines()):\n",
    "        \n",
    "        if i < 2:\n",
    "            continue\n",
    "        \n",
    "        arr = word_tokenize(l)\n",
    "        for a in arr:\n",
    "            a = lemma.lemmatize(a.lower())\n",
    "            if \"'\" in a:\n",
    "                continue\n",
    "            if len(a) < 3:\n",
    "                continue\n",
    "            if not a in model.vocab:\n",
    "                continue\n",
    "            if a in stop_words:\n",
    "                continue\n",
    "            words.add(a)\n",
    "\n",
    "print(words)"
   ]
  },
  {
   "cell_type": "code",
   "execution_count": null,
   "metadata": {},
   "outputs": [],
   "source": []
  },
  {
   "cell_type": "code",
   "execution_count": 92,
   "metadata": {},
   "outputs": [],
   "source": [
    "import numpy as np\n",
    "import copy\n",
    "\n",
    "centroids = np.zeros((len(words), 300))\n",
    "\n",
    "for i, w in enumerate(words):\n",
    "    centroids[i] = model[w]\n",
    "    "
   ]
  },
  {
   "cell_type": "code",
   "execution_count": 93,
   "metadata": {},
   "outputs": [],
   "source": [
    "dist = np.zeros((len(words), len(words)))\n",
    "for i in range(dist.shape[0]):\n",
    "    for j in range(dist.shape[1]):\n",
    "        dist[i, j] = np.linalg.norm(centroids[i] - centroids[j])\n",
    "out = open('dist.txt', 'w')\n",
    "for i in range(dist.shape[0]):\n",
    "    for j in range(dist.shape[1]):\n",
    "        out.write(str(dist[i, j]).ljust(20) + ' ')\n",
    "    out.write('\\n')\n",
    "out.close()"
   ]
  },
  {
   "cell_type": "code",
   "execution_count": 94,
   "metadata": {},
   "outputs": [
    {
     "data": {
      "text/plain": [
       "(544, 544)"
      ]
     },
     "execution_count": 94,
     "metadata": {},
     "output_type": "execute_result"
    }
   ],
   "source": [
    "dist.shape"
   ]
  },
  {
   "cell_type": "code",
   "execution_count": 95,
   "metadata": {},
   "outputs": [
    {
     "data": {
      "image/png": "[encoded data removed]",
      "text/plain": [
       "<Figure size 432x288 with 1 Axes>"
      ]
     },
     "metadata": {
      "needs_background": "light"
     },
     "output_type": "display_data"
    }
   ],
   "source": [
    "import matplotlib.pyplot as plt\n",
    "\n",
    "plt.plot(centroids[:,2], centroids[:,3], 'o')\n",
    "plt.show()"
   ]
  },
  {
   "cell_type": "code",
   "execution_count": 96,
   "metadata": {},
   "outputs": [],
   "source": [
    "from sklearn.mixture import GaussianMixture\n",
    "gmm = GaussianMixture(n_components=50).fit(centroids)\n",
    "labels = gmm.predict(centroids)\n",
    "mapping = {}\n",
    "for s, l in sorted(zip(words, labels), key = lambda x: x[1]):\n",
    "    mapping[s] = l"
   ]
  },
  {
   "cell_type": "code",
   "execution_count": 97,
   "metadata": {},
   "outputs": [
    {
     "name": "stdout",
     "output_type": "stream",
     "text": [
      "[[ 0.  0.  0. ...  2.  0.  0.]\n",
      " [ 0.  0.  1. ...  0.  0.  0.]\n",
      " [ 0.  0.  0. ...  0.  0.  0.]\n",
      " ...\n",
      " [ 0.  0.  7. ...  0.  0.  0.]\n",
      " [ 1.  0.  1. ...  2.  0.  0.]\n",
      " [ 6.  0. 13. ...  0.  0.  0.]]\n"
     ]
    }
   ],
   "source": [
    "songs = sorted(os.listdir('songs'))\n",
    "mfw = np.zeros((len(songs), 50))\n",
    "\n",
    "for index, f in enumerate(songs):\n",
    "    if f[0] == '.':\n",
    "        continue\n",
    "    \n",
    "    for i, l in enumerate(open('songs/' + f, 'r').readlines()):\n",
    "        \n",
    "        if i < 2:\n",
    "            continue\n",
    "        \n",
    "        arr = word_tokenize(l)\n",
    "        for a in arr:\n",
    "            a = lemma.lemmatize(a.lower())\n",
    "            if \"'\" in a:\n",
    "                continue\n",
    "            if len(a) < 3:\n",
    "                continue\n",
    "            if not a in model.vocab:\n",
    "                continue\n",
    "            if a in stop_words:\n",
    "                continue\n",
    "            mfw[index, mapping[a]] += 1\n",
    "            \n",
    "print(mfw)"
   ]
  },
  {
   "cell_type": "code",
   "execution_count": 98,
   "metadata": {},
   "outputs": [],
   "source": [
    "dist = np.zeros((len(songs), len(songs)))\n",
    "for i in range(dist.shape[0]):\n",
    "    for j in range(dist.shape[1]):\n",
    "        dist[i, j] = np.linalg.norm(mfw[i] - mfw[j])"
   ]
  },
  {
   "cell_type": "code",
   "execution_count": 100,
   "metadata": {},
   "outputs": [
    {
     "data": {
      "text/plain": [
       "(29, 29)"
      ]
     },
     "execution_count": 100,
     "metadata": {},
     "output_type": "execute_result"
    }
   ],
   "source": [
    "dist.shape"
   ]
  },
  {
   "cell_type": "code",
   "execution_count": 101,
   "metadata": {},
   "outputs": [
    {
     "name": "stdout",
     "output_type": "stream",
     "text": [
      "1991.txt 0\n",
      "1999-2.txt 0\n",
      "1999.txt 0\n",
      "2004.txt 0\n",
      "2006.txt 0\n",
      "2007-2.txt 0\n",
      "2011.txt 0\n",
      "2017.txt 0\n",
      "2005.txt 1\n",
      "2009.txt 1\n",
      "2010.txt 1\n",
      "1990.txt 2\n",
      "2002.txt 2\n",
      "2003.txt 2\n",
      "2007.txt 2\n",
      "2008.txt 2\n",
      "2013.txt 2\n",
      "1962.txt 3\n",
      "1967.txt 3\n",
      "1984.txt 3\n",
      "1986.txt 3\n",
      "1987.txt 3\n",
      "1997.txt 3\n",
      "2000.txt 3\n",
      "2001.txt 3\n",
      "2015.txt 3\n",
      "1969.txt 4\n",
      "2012.txt 4\n",
      "2016.txt 4\n"
     ]
    }
   ],
   "source": [
    "from sklearn.mixture import GaussianMixture\n",
    "gmm = GaussianMixture(n_components=5).fit(mfw)\n",
    "labels = gmm.predict(mfw)\n",
    "for s, l in sorted(zip(songs, labels), key = lambda x: x[1]):\n",
    "    print(s.ljust(8),l)"
   ]
  },
  {
   "cell_type": "code",
   "execution_count": null,
   "metadata": {},
   "outputs": [],
   "source": []
  }
 ],
 "metadata": {
  "kernelspec": {
   "display_name": "Python 3",
   "language": "python",
   "name": "python3"
  },
  "language_info": {
   "codemirror_mode": {
    "name": "ipython",
    "version": 3
   },
   "file_extension": ".py",
   "mimetype": "text/x-python",
   "name": "python",
   "nbconvert_exporter": "python",
   "pygments_lexer": "ipython3",
   "version": "3.5.4"
  }
 },
 "nbformat": 4,
 "nbformat_minor": 2
}
