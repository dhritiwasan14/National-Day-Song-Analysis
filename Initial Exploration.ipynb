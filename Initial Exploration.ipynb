{
 "cells": [
  {
   "cell_type": "code",
   "execution_count": 3,
   "metadata": {},
   "outputs": [],
   "source": [
    "import gensim\n",
    "\n",
    "# Load Google's pre-trained Word2Vec model.\n",
    "model = gensim.models.KeyedVectors.load_word2vec_format('./model/GoogleNews-vectors-negative300.bin', binary=True)  "
   ]
  },
  {
   "cell_type": "code",
   "execution_count": 65,
   "metadata": {},
   "outputs": [
    {
     "name": "stdout",
     "output_type": "stream",
     "text": [
      "defaultdict(<class 'set'>, {'1962': {'Come', 'you', 'island', 'sets', 'Sunny', 'the', 'our', 'for', 'join', 'oh', 'bloom', 'merry', 'Join', 'along', 'Pretty', 'song', 'in', 'Blend', 'flowers'}, '1967': {\"you'll\", 'Quay', 'sunrise', 'turning', 'us', 'unforgettable', 'light', 'striving', 'other', 'you', 'happiness', 'take', 'around', 'In', 'Because', 'hundred', 'Raffles', 'the', 'bus', 'buildings', 'for', 'into', 'Collyer', 'For', 'people', 'Place', 'an', \"You'll\", \"there's\", 'way', 'could', 'Esplanade', 'everyone', 'are', 'Singapore', 'on', 'sky', 'And', 'I', 'all', 'big', 'find', 'climbing', 'see', \"it's\", 'trip', 'You', 'in', 'faraway', \"Let's\", 'like', 'sight', 'city', 'town', 'who', 'little', 'hearts', 'To', 'Their', 'The', 'go', 'wide', 'down', 'darkness'}, '1969': {'white', 'truth', 'new', 'love', 'blood', 'happy', 'the', 'lamp', 'out', 'guide', 'our', 'yet', 'for', 'we', 'Each', 'as', 'stormy', 'moon', 'five', 'Youthful', 'are', 'free', 'tranquil', 'all', 'flag', 'is', 'pure', 'sea', 'see', 'Crimson', 'There', 'can', 'be', 'bright', 'bearing', \"There's\", 'stars', 'proud', 'Reach'}, '1984': {'fellow', 'right', 'Together', \"You've\", 'you', 'from', 'prepared', 'us', 'share', 'something', 'care', 'give', 'Let', 'really', 'home', 'more', 'the', 'out', 'our', 'for', 'do', 'Recognise', \"You'll\", 'determination', 'best', 'never', 'with', 'Singapore', 'stand', 'So', \"we've\", 'all', 'Join', 'man', 'find', 'nation', 'part', 'up', 'come', 'Be', 'worthwhile', 'can', 'play', 'Believe', 'done', 'make', 'smile', 'show', 'in', 'If', 'your', 'like', 'before', 'got', 'little', 'Stand', \"you've\", 'it', 'Reach', 'heart'}, '1986': {'going', 'you', 'share', 'something', 'give', 'my', 'world', 'told', 'more', \"we'll\", 'the', 'feeling', 'achieve', 'our', 'we', 'for', 'do', 'count', 'that', 'bold', 'believe', 'best', 'too', 'are', 'Singapore', \"We're\", 'stand', 'on', 'strive', 'what', 'me', 'all', 'build', 'is', \"can't\", 'vision', 'just', 'We', \"it's\", 'road', 'There', 'can', 'have', 'show', 'be', 'goal', 'You', 'in', 'no', \"There's\", 'try', 'better', 'Count', 'Together', 'spirit', 'down', 'heart'}, '1987': {'so', 'us', 'one', 'time', 'Regardless', 'but', 'Prosperity', 'Singaporeans', 'for', 'as', 'that', 'people', 'much', 'said', 'make', 'That', 'ourselves', 'when', 'So', \"won't\", 'harmony', 'happiness', 'my', 'out', 'hear', 'was', 'free', 'stand', 'equality', 'did', 'is', 'citizens', 'We', 'peace', 'come', 'progress', 'together', 'marching', 'democratic', 'far', 'life', 'All', 'language', 'seemed', 'society', 'built', 'united', 'the', 'too', 'are', 'on', 'Pledge', 'belong', 'flag', 'common', 'build', 'strong', 'religion', \"We've\", 'or', 'destiny', 'roar', 'will', 'achieve', 'our', 'we', 'Based', 'This', 'For', 'justice', 'here', 'Singapore', 'reaching', \"We're\", 'these', 'friends', 'nation', 'forevermore', \"it's\", 'There', 'lion', 'troubles', 'this', 'To'}, '1990': {'hands', 'dozen', 'from', \"we're\", 'now', 'one', 'Strangers', 'creed', 'place', 'time', 'world', 'has', 'will', 'built', 'reach', 'lands', 'the', 'One', 'hand', 'out', 'our', 'we', 'first', 'for', 'join', 'that', 'people', 'way', \"We'll\", 'where', 'Singaporean', 'never', 'with', 'Singapore', 'stand', 'Every', 'And', 'nation', 'forevermore', 'just', \"it's\", \"That's\", 'test', 'show', 'be', 'role', 'in', \"Let's\", 'vigilance', 'rest', \"We've\", 'toil', 'comes', 'when', 'Our', 'The', 'every'}, '1991': {'hope', 'others', 'one', 'place', 'give', 'happy', 'Over', 'for', 'No', 'that', 'know', 'part', 'brighter', 'make', 'grown', 'things', 'Home', 'down', 'heart', 'my', 'feel', 'love', \"I've\", 'call', 'My', 'joy', 'beautiful', 'The', \"children's\", 'me', 'safe', 'all', 'days', 'air', 'in', 'warm', 'life', \"It's\", 'good', 'care', 'cares', 'warms', 'the', 'cared', 'way', 'ways', 'where', 'I', 'And', 'inside', 'Cause', 'deep', 'You', \"that's\", 'like', \"you're\", 'laughter', 'little', 'always', 'matter', 'destiny', \"You've\", 'you', 'share', 'our', 'we', 'how', 'accustomed', 'here', 'may', 'be', 'your', 'no', \"I'll\", \"You're\", 'it', 'opened'}, '1997': {'beauty', 'hope', 'dreams', 'light', 'flying', 'one', 'across', 'my', 'land', 'will', 'In', 'reach', 'birds', 'the', 'our', 'we', 'freedom', 'true', 'day', 'are', 'Every', 'I', 'wish', 'free!', 'We', 'see', 'come', 'future', \"it's\", 'be', 'in', \"There's\", 'Yes!', 'it', 'heart'}, '1999-2': {'ever', 'choices', 'destiny', 'families', 'lies', 'us', 'one', 'share', 'new', 'my', 'feel', 'Let', 'reach', 'will', 'In', \"we'll\", 'the', 'hand', 'achieve', 'out', 'our', 'we', 'for', 'into', 'joy', 'No', 'that', 'ways', 'way', 'goals', 'remain', 'never', 'everyone', 'with', 'homeland', 'Singapore', 'Stepping', 'on', 'I', 'every', 'strive', 'friends', 'strength', 'is', 'find', 'Through', 'New', 'As', 'special', 'We', 'shine', 'heartbeat', 'have', 'together', 'hold', 'make', 'be', 'change', 'in', 'Creating', 'no', 'by', 'aspire', 'mind', 'if', 'Nothing', 'this', 'hearts', 'always', 'harmony', 'go', 'Together', 'working', 'World', 'matter', 'heart'}, '1999': {'river', 'dreams', 'us', 'time', 'share', 'new', 'unfold', 'world', 'let', 'different', 'Let', 'reach', 'will', 'beginning', 'celebrate', 'more', 'feeling', 'out', 'brand', 'our', 'we', 'for', 'into', 'This', 'as', 'day', 'Tomorrow', 'magic', 'where', 'inspiration', 'never', 'The', 'way', 'horizon', 'on', 'Like', 'all', 'friends', 'bring', 'is', 'find', 'Moving', 'move', 'We', 'A', 'Time', 'there', 'enchanting', 'like', 'city', 'Moments', \"There's\", 'awaits', 'this', 'always', 'shines', 'moments', 'go', 'brings', 'treasure', 'hopes'}, '2000': {'so', 'Into', 'choices', 'families', 'lies', 'dreams', 'us', 'Turning', 'one', 'share', 'born', 'my', 'world', 'Let', 'In', 'will', 'home', 'more', 'reach', 'the', 'out', 'our', 'we', 'into', 'reality', 'joy', 'true', 'as', 'for', 'Make', 'For', 'shining', 'much', 'than', 'best', 'Stepping', 'with', 'was', 'homeland', 'on', 'I', 'me', 'what', 'friends', 'all', 'strength', 'Reaching', 'build', 'afar', 'New', 'As', 'come', 'can', 'shine', 'lead', 'make', 'be', 'Crescent', 'recall', 'moment', 'crescent', 'young', \"There's\", 'stronger', 'this', 'grow', 'when', 'Stars', 'always', 'The', 'Shining', 'All', 'World', 'hopes', 'heart'}, '2001': {'so', 'Morning', 'dreams', 'us', 'one', 'place', 'wait', 'In', 'hand', 'night', 'bitter', 'for', 'as', 'know', 'become', 'streets', 'walk', 'Seeing', \"day's\", 'see', 'future', 'family', 'sunny', 'That', 'glorious', 'heart', 'families', 'my', 'out', 'towards', 'beautiful', 'memories', 'wonderful', 'me', 'safe', 'Where', 'is', 'As', 'soul', 'come', 'shout', 'kept', 'shine', 'together', \"They're\", 'in', 'bright', 'still', 'comes', 'learn', \"we're\", 'whole', 'world', 'around', 'home', 'the', 'loud', 'at', 'Bright', 'where', 'closer', 'I', 'on', 'And', 'belong', 'big', 'side', 'through', 'Guiding', 'by', 'precious', 'grow', 'always', 'or', 'matter', 'whether', 'keep', 'island', 'its', 'will', 'Friends', \"Can't\", 'we', 'true', 'lights', 'am', 'sour', 'Every', 'sweet', \"it's\", 'they', 'close', 'be', 'rain', 'no', 'this', 'To', 'want', \"I'll\", 'it'}, '2002': {'so', 'hope', 'from', 'new', 'Deep', \"we'll\", 'hand', 'for', 'as', 'that', 'much', 'start', 'could', 'know', 'darkest', \"couldn't\", 'By', 'family', 'Be', 'there', 'again', 'things', 'when', 'So', 'working', 'heart', 'ever', 'stood', 'now', 'overcome', 'after', 'my', 'Right', 'love', 'tame', 'out', \"there's\", 'with', 'stand', \"weren't\", 'all', 'We', 'A', 'come', 'play', 'together', \"we'd\", 'change', 'in', 'sharing', 'set', 'still', 'far', 'Nothing', 'life', 'Together', 'had', 'care', 'thought', 'world', 'anything', 'the', 'knew', 'way', 'where', 'win', 'I', 'And', \"we've\", 'Remember', 'build', 'must', 'side', 'why', 'just', 'possible', 'can', 'contribute', 'by', \"There's\", \"We've\", 'little', 'grow', 'struggled', 'go', 'get', 'share', 'Then', 'long', 'will', 'our', 'we', 'Look', \"don't\", 'storms', 'anew', 'If', 'Believing', \"I'll\", 'it', 'With'}, '2003': {'lighting', 'you', 'one', 'island', 'voices', 'share', 'rainbow', 'its', 'from', 'my', 'different', 'will', 'thousand', '&', 'sing', 'united', 'the', 'One', 'hand', 'My', 'voice', 'our', 'we', 'for', 'as', 'sun', 'people', 'where', 'are', 'Singapore', 'free', 'stand', 'homeland', 'sky', 'I', 'strength', 'build', 'is', 'colors', 'nation', 'We', 'up', 'A', 'future', 'heartbeat', 'together', 'brighter', 'make', 'in', 'strong', 'this', 'Our', 'harmony', 'With'}, '2004': {'stay', 'tell', 'dreams', 'us', 'place', 'wait', 'which', 'feeling', \"we'll\", 'for', 'Wherever', 'as', 'that', 'people', \"I'm\", 'start', 'about', 'know', 'Just', 'When', 'there', 'senses', 'Whenever', 'That', 'before', 'So', \"won't\", 'down', 'my', 'low', 'me', 'Where', 'is', 'find', 'within', 'together', 'in', 'comfort', 'city', 'life', 'brings', 'every', 'around', 'home', 'street', 'the', 'look', 'Know', 'way', 'where', 'knowledge', 'too', 'are', 'I', 'flows', \"we've\", 'build', 'must', 'through', 'done', 'like', \"There's\", 'always', 'go', 'river', 'Sail', 'its', 'will', 'our', 'This', 'For', 'choose', \"We'll\", 'am', 'Singapore', \"it's\", 'There', 'may', 'shore', 'be', 'anew', 'troubles', 'recall', 'this', 'Winding'}, '2005': {'hope', 'dreams', 'one', 'time', \"we'll\", 'hand', 'standing', 'for', 'do', 'about', 'When', 'flame', 'tall', 'future', 'family', 'At', 'make', 'soar', 'when', 'proud', 'my', 'reach', 'out', 'unsure', 'best', 'was', 'low', 'free', 'Building', 'me', 'think', 'all', 'As', 'We', 'come', 'within', 'kept', 'wings', 'in', 'hearts', 'seemed', 'journey', \"It's\", 'the', 'high', 'on', 'I', 'skies', 'through', 'can', 'strong', \"We've\", 'destiny', 'alive', 'has', 'achieve', 'our', 'we', 'For', \"We'll\", 'Now', 'here', 'strive', 'friends', 'But', 'up', 'be', \"Let's\", 'want', 'Our', 'To', 'The', 'it', 'spirit', 'touch', 'hopes', 'With'}, '2006': {'beauty', 'she', 'dreams', 'you', 'island', 'born', 'everything', 'my', 'land', 'will', 'In', 'forget', 'home', 'sing', 'My', 'Wherever', 'This', 'that', 'day', 'believe', 'never', 'are', 'I', 'And', 'me', 'all', 'Where', 'is', 'her', 'Grace', 'part', 'see', 'A', 'peace', 'family', 'future', 'may', 'song', 'be', 'You', 'Nor', 'Home', 'always', 'want', 'every'}, '2007-2': {'Songs', 'brave', 'nights', 'corner', 'country', 'dreams', 'you', 'island', 'from', 'us', 'Will', 'place', 'live', 'new', 'dare', 'let', 'take', 'will', 'swim', 'home', 'greets', 'the', 'help', 'Delightful', 'that', 'smiles', 'stories', 'write', 'everyone', 'turn', 'on', 'And', 'all', 'Surprises', 'find', 'Amazing', 'come', 'scale', 'days', 'seize', 'make', 'in', 'each', 'grand', 'your', 'city', 'this', 'To', 'So', 'it', 'every', 'With'}, '2007': {\"I'll\", 'walked', 'one', 'sunsets', 'place', 'Great', 'old', 'night', 'loved', 'roamed', 'know', 'UK', 'grew', 'West', 'Wall', 'streets', 'part', 'Discovered', 'see', 'family', \"I'd\", 'okay', 'Bombay', 'when', 'catch', 'So', 'nights', 'Big', 'crossed', 'my', 'braved', 'hour', 'sail', \"I've\", 'day', \"there's\", 'Francisco', 'Eiffel', 'away', 'Yet', 'with', 'me', 'think', 'is', 'Seen', 'wanna', 'End', 'in', 'each', 'Cairo', 'still', 'every', \"It's\", 'Experienced', 'thought', 'rather', 'world', 'home', 'the', 'London', 'miss', 'Broadway', 'where', 'on', 'I', 'And', 'climbed', 'LA', 'Cause', 'why', 'skies', 'signs', 'plays', \"that's\", 'danced', \"There's\", 'Taipei', 'always', 'queued', 'cross', 'river', 'you', 'long', 'even', 'This', 'neon', 'Kwai', \"You'll\", 'oh', 'sour', 'sweet', 'friends', 'seen', 'But', \"don't\", 'up', \"it's\", 'seas', 'be', 'San', 'no', 'rain', 'To', 'The'}, '2008': {'so', 'dreams', 'one', 'Your', 'dark', 'Deep', \"we'll\", 'Nowhere', 'for', 'that', 'star', 'believe', 'Shine', \"I'd\", 'there', 'heart', 'out', 'made', 'begins', 'with', 'free', 'sky', 'me', 'all', 'is', 'As', 'beyond', 'come', 'far', 'shines', 'every', \"It's\", 'visions', \"we're\", 'Or', 'rather', 'home', 'the', 'where', 'belong', 'inside', 'vision', 'moved', 'can', 'seems', 'You', 'strong', 'always', 'Reach', 'matter', 'However', 'Have', 'you', 'will', 'sing', 'One', 'achieve', 'vast', 'our', 'we', 'true', 'This', 'belongs', 'here', 'Singapore', 'seen', \"it's\", 'may', 'Strive', 'guides', 'song', 'be', 'If', 'your', 'no', 'heard', 'this', 'it', 'hopes'}, '2009': {'imagine', 'seven', 'dreams', 'time', 'See', 'take', 'million', 'climb', 'do', 'as', 'that', 'believe', 'could', 'gem', 'bring', 'not', 'see', 'future', 'family', 'carried', 'upon', 'have', 'That', 'when', 'only', 'top', 'reach', 'more', 'sail', 'afraid', 'Cos', 'highest', 'sun', 'an', 'wind', 'thoughts', 'stand', 'sky', 'what', 'Where', 'is', 'As', 'courage', 'We', 'A', 'come', 'gonna', 'shine', 'together', 'in', 'set', 'far', 'hearts', 'life', 'Together', 'jewel', 'land', 'open', 'around', 'book', 'brightly', 'the', 'at', 'look', 'skys', 'way', 'minds', 'are', 'on', 'makes', 'can', 'youre', \"There's\", 'or', 'Youll', 'destiny', 'you', 'share', 'long', 'has', 'will', 'What', 'achieve', 'our', 'we', 'sights', 'into', 'how', 'Now', 'moon', 'limit', 'nothings', 'reaching', 'dream', 'strength', 'Look', 'sea', 'they', 'up', 'may', 'seas', 'your', 'this', 'To', 'The', 'mountain', 'it', 'tomorrow', 'hopes', 'With'}, '2010': {'hope', 'dreams', 'one', 'time', \"we'll\", 'hand', 'standing', 'for', 'do', 'about', 'When', 'flame', 'tall', 'future', 'family', 'At', 'make', 'soar', 'when', 'proud', 'my', 'reach', 'out', 'unsure', 'best', 'was', 'low', 'free', 'Building', 'me', 'think', 'all', 'As', 'We', 'come', 'within', 'kept', 'wings', 'in', 'hearts', 'journey', \"It's\", 'the', 'high', 'on', 'I', 'skies', 'through', 'can', 'seems', 'strong', \"We've\", 'destiny', 'alive', 'has', 'achieve', 'our', 'we', 'For', \"We'll\", 'Now', 'here', 'strive', 'friends', 'But', 'up', 'be', \"Let's\", 'want', 'Our', 'To', 'The', 'it', 'spirit', 'touch', 'hopes', 'With'}, '2011': {'hope', 'country', 'light', 'you', 'one', 'time', 'us', 'alive', 'place', 'new', 'my', 'has', 'land', 'will', 'In', 'reach', 'home', 'beginning', 'else', 'the', 'at', 'our', 'we', 'for', 'freedom', 'do', 'This', 'sun', 'as', 'today', 'renew', 'start', 'way', 'passed', 'where', 'dream', 'I', 'sky', 'stand', 'me', 'beat', 'is', 'part', 'We', 'family', \"it's\", 'flame', 'can', 'Living', 'there', 'heartbeat', 'have', 'play', 'calling', 'spirits', 'be', 'found', 'in', 'role', 'step', 'under', 'no', 'moment', 'by', 'strong', 'starting', 'Nothing', 'this', 'hearts', 'life', 'always', 'beats', \"I'll\", 'it', 'heart'}, '2012': {'flight', 'light', 'dreams', 'us', 'one', 'place', 'Hand', 'new', 'Your', 'take', 'feeling', 'Night', 'that', 'much', 'peaceful', 'know', 'shared', 'When', 'special', 'see', 'sunny', 'stirred', 'brighter', 'So', 'Come', 'ever', 'my', 'love', 'My', 'first', 'put', 'finally', 'meet', 'what', 'spring', 'Where', 'binds', 'find', 'We', 'rolls', 'Ready', 'in', 'bright', 'city', 'Sights', 'the', 'closest', 'at', 'look', 'feels', 'I', 'on', 'And', 'can', 'wake', 'like', 'stars', 'across', 'you', 'lively', 'different', 'has', 'twinkling', 'tastes', 'our', 'we', 'smiles', 'Now', 'Day', 'here', 'friends', 'up', 'forward', 'add', 'First', 'Warm', 'be', 'no', 'if', 'this', 'it'}, '2013': {'so', 'dreams', 'give', 'but', \"we'll\", 'for', 'more.', 'as', 'that', \"I'm\", 'much', 'stories', 'know', 'Just', 'not', 'shared', 'hold', 'make', 'That', 'looking', 'keeps', 'when', 'Yeah', 'ever', 'everything', 'my', 'love', 'reach', 'bravely', 'spot', 'call', 'Cos', 'join', 'memories', 'Many', 'with', 'tiny', 'bell', 'all', 'is', 'We', 'come', 'gonna', 'play', 'shine', 'together', 'sharing', 'bright', 'got', 'hearts', 'life', 'Together', 'recess', 'seem', 'rings', 'rainbow', 'home', 'the', 'look', 'It', 'are', 'I', 'on', 'Thus', 'Like', 'sure', 'side', 'just', 'story', 'can', 'Light', 'show', 'seems', 'Oh', 'Here', 'like', 'by', 'stronger', 'dots', 'right', 'you', 'long', 'will', 'Let', 'thing', 'sing', 'wanted', 'One', 'our', 'we', 'This', 'For', 'how', 'here', 'Singapore', \"We're\", 'up', 'may', 'be', \"Let's\", 'your', 'this', 'want', 'Our', 'it'}, '2015': {'us', 'one', 'new', 'amazing', 'as', 'could', 'many', 'ahead', 'easy', 'see', 'have', 'building', 'hold', 'years', 'started', 'when', 'So', 'down', 'only', 'heart', 'now', 'challenge', 'love', 'out', 'towards', 'gone', 'gather', 'best', 'nothing', 'with', 'rocky', 'me', 'all', 'Through', 'is', 'courage', 'A', 'come', 'shine', 'together', 'far', 'world', 'land', 'around', 'built', 'home', \"isn't\", 'the', 'look', 'It', 'where', 'high', 'on', 'And', \"we've\", 'moved', 'done', 'seems', 'by', \"We've\", 'grow', 'go', 'brave', 'right', 'you', 'something', 'will', 'our', 'we', 'yet', 'Especially', 'won', 'dreaming', 'Singapore', 'dream', 'But', 'nation', 'up', 'road', 'carry', 'be', 'conviction', 'core', 'if', 'To', 'Our', 'The', 'it', 'tomorrow', 'treasure'}, '2016': {'dreams', 'light', 'Till', 'new', 'See', 'hand', 'standing', 'No', 'that', 'bang', 'know', 'not', 'When', 'tall', 'fly', 'see', 'Be', \"tomorrow's\", 'make', 'Home', 'Yeah', 'Come', 'out', 'own', 'higher', 'day', 'away', 'fire', 'yearning', 'sky', 'what', 'all', 'plain', 'drum', 'is', \"can't\", 'beyond', 'come', 'within', 'together', 'calling', 'name', 'in', 'Walking', 'stop', 'hearts', 'run', 'any', 'leap', 'fall', \"we're\", 'Fly', 'world', 'the', 'brand', 'way', 'where', 'are', 'on', 'And', 'beat', 'flag', 'Raise', 'Echoing', 'Cause', 'just', 'skies', 'Time', 'deep', 'can', 'Looking', 'You', 'eyes', 'wishes', \"let's\", 'by', \"you're\", 'who', 'stars', 'go', 'head', 'weather', 'right', 'you', 'has', 'will', 'sing', 'our', 'we', 'into', 'This', 'Dream', 'Make', 'today', 'how', 'begin', 'here', 'Step', 'raise', 'along', 'up', \"it's\", 'may', 'song', 'be', 'alone', 'your', 'Take', 'want', 'it', 'Feel', 'With'}, '2017': {'stay', \"It's\", 'one', 'island', 'Hand', 'world', 'back', 'love', 'home', 'Because', \"we'll\", 'the', 'hand', 'call', 'Life', 'Everyone', 'our', 'we', 'compares', 'as', 'that', 'Back', 'Singaporean', 'where', 'are', 'know', 'Singapore', 'Step', 'Where', 'build', 'is', 'We', \"it's\", 'Living', 'friend', 'in', 'step', 'by', 'Nothing', 'grow', 'this', 'To', 'harmony', 'The', 'Together', 'brave', 'undivided', 'Heart', 'heart'}})\n"
     ]
    },
    {
     "data": {
      "text/plain": [
       "['1962',\n",
       " '1967',\n",
       " '1969',\n",
       " '1984',\n",
       " '1986',\n",
       " '1987',\n",
       " '1990',\n",
       " '1991',\n",
       " '1997',\n",
       " '1999',\n",
       " '1999-2',\n",
       " '2000',\n",
       " '2001',\n",
       " '2002',\n",
       " '2003',\n",
       " '2004',\n",
       " '2005',\n",
       " '2006',\n",
       " '2007',\n",
       " '2007-2',\n",
       " '2008',\n",
       " '2009',\n",
       " '2010',\n",
       " '2011',\n",
       " '2012',\n",
       " '2013',\n",
       " '2015',\n",
       " '2016',\n",
       " '2017']"
      ]
     },
     "execution_count": 65,
     "metadata": {},
     "output_type": "execute_result"
    }
   ],
   "source": [
    "import os\n",
    "import collections\n",
    "\n",
    "songs = collections.defaultdict(set)\n",
    "song_names = dict()\n",
    "for f in sorted(os.listdir('songs')):\n",
    "    if f[0] == '.':\n",
    "        continue\n",
    "    \n",
    "    for i, l in enumerate(open('songs/' + f, 'r').readlines()):\n",
    "        if i == 0:\n",
    "            song_names[f.split(\".\")[0]] = l.strip()\n",
    "        # Ignore song name\n",
    "        if i < 2:\n",
    "            continue\n",
    "        \n",
    "        arr = l.strip().split(\" \")\n",
    "        \n",
    "        for a in arr:\n",
    "            if a == '':\n",
    "                continue\n",
    "            if a not in model.vocab:\n",
    "                continue\n",
    "            songs[f.split(\".\")[0]].add(a)\n",
    "\n",
    "print(songs)\n",
    "song_years = sorted(list(songs.keys()))\n",
    "song_years"
   ]
  },
  {
   "cell_type": "code",
   "execution_count": 116,
   "metadata": {},
   "outputs": [],
   "source": [
    "import numpy as np\n",
    "import copy\n",
    "\n",
    "centroids = np.zeros((len(song_years), 300))\n",
    "\n",
    "for i in range(len(song_years)):\n",
    "    l = list(songs[song_years[i]])\n",
    "    centroids[i] = copy.copy(model[l[0]])\n",
    "    \n",
    "    for w in range(1, len(l)):\n",
    "        centroids[i] += model[l[w]]\n",
    "    \n",
    "    centroids[i] /= len(l)"
   ]
  },
  {
   "cell_type": "code",
   "execution_count": 117,
   "metadata": {},
   "outputs": [],
   "source": [
    "dist = np.zeros((len(songs.keys()), len(songs.keys())))"
   ]
  },
  {
   "cell_type": "code",
   "execution_count": 118,
   "metadata": {},
   "outputs": [],
   "source": [
    "for i in range(dist.shape[0]):\n",
    "    for j in range(dist.shape[1]):\n",
    "        dist[i, j] = np.linalg.norm(centroids[i] - centroids[j])"
   ]
  },
  {
   "cell_type": "code",
   "execution_count": 119,
   "metadata": {},
   "outputs": [
    {
     "data": {
      "text/plain": [
       "array([[0.        , 0.76210682, 0.80615586, 0.77311079, 0.85615968,\n",
       "        0.85412788, 0.81661097, 0.81463097, 0.81913686, 0.77116689,\n",
       "        0.83623545, 0.80386098, 0.73586541, 0.82189191, 0.78661849,\n",
       "        0.80779135, 0.82620195, 0.84721065, 0.74535006, 0.71985116,\n",
       "        0.77473069, 0.78996276, 0.82570055, 0.82730643, 0.73669154,\n",
       "        0.76258229, 0.83679798, 0.6983311 , 0.76152733],\n",
       "       [0.76210682, 0.        , 0.53030509, 0.51034289, 0.4923526 ,\n",
       "        0.48656663, 0.43964593, 0.50076211, 0.45225913, 0.44631732,\n",
       "        0.50157783, 0.44089934, 0.35729797, 0.46270388, 0.49535204,\n",
       "        0.38946317, 0.43753545, 0.55607284, 0.41842588, 0.43023312,\n",
       "        0.43068163, 0.40391503, 0.43853906, 0.45247265, 0.43057345,\n",
       "        0.43940481, 0.4323332 , 0.41300473, 0.48252604],\n",
       "       [0.80615586, 0.53030509, 0.        , 0.62351021, 0.59520261,\n",
       "        0.55816038, 0.53809353, 0.59543631, 0.52732393, 0.52257827,\n",
       "        0.54703527, 0.48663997, 0.47002208, 0.56706566, 0.5098998 ,\n",
       "        0.55685152, 0.5076813 , 0.63881949, 0.59304551, 0.55964039,\n",
       "        0.49763255, 0.46510911, 0.50762815, 0.50461923, 0.50588143,\n",
       "        0.53727933, 0.51974118, 0.51321606, 0.58525998],\n",
       "       [0.77311079, 0.51034289, 0.62351021, 0.        , 0.33961157,\n",
       "        0.50136493, 0.48236223, 0.42923848, 0.51345063, 0.51824713,\n",
       "        0.42218773, 0.45341551, 0.43594888, 0.35707462, 0.55638552,\n",
       "        0.40957279, 0.45154444, 0.5381061 , 0.56209852, 0.45282183,\n",
       "        0.41107901, 0.42587756, 0.45139238, 0.46015976, 0.44157808,\n",
       "        0.36340736, 0.42350471, 0.36974788, 0.46045837],\n",
       "       [0.85615968, 0.4923526 , 0.59520261, 0.33961157, 0.        ,\n",
       "        0.42816732, 0.46947353, 0.42125906, 0.43417081, 0.4820643 ,\n",
       "        0.35466875, 0.45302963, 0.41826953, 0.34281709, 0.51053681,\n",
       "        0.38850298, 0.39857866, 0.53029653, 0.5841056 , 0.50240731,\n",
       "        0.39149455, 0.39140535, 0.39640864, 0.40434653, 0.45861433,\n",
       "        0.35041728, 0.37222582, 0.41427896, 0.47344803],\n",
       "       [0.85412788, 0.48656663, 0.55816038, 0.50136493, 0.42816732,\n",
       "        0.        , 0.41155721, 0.51687438, 0.45070651, 0.50662157,\n",
       "        0.39289433, 0.43369483, 0.43547568, 0.42238937, 0.45001948,\n",
       "        0.42922218, 0.41639368, 0.51135434, 0.58577359, 0.53425127,\n",
       "        0.44971759, 0.44101123, 0.4157523 , 0.43435829, 0.50122244,\n",
       "        0.42634095, 0.41405349, 0.47057223, 0.47191682],\n",
       "       [0.81661097, 0.43964593, 0.53809353, 0.48236223, 0.46947353,\n",
       "        0.41155721, 0.        , 0.52062928, 0.46183344, 0.46778786,\n",
       "        0.40825822, 0.40568978, 0.41201271, 0.41487306, 0.45635526,\n",
       "        0.4082709 , 0.41437604, 0.56123534, 0.50162678, 0.47384507,\n",
       "        0.43479928, 0.41774575, 0.41045651, 0.39695884, 0.46401496,\n",
       "        0.43924946, 0.3767467 , 0.42963723, 0.41465917],\n",
       "       [0.81463097, 0.50076211, 0.59543631, 0.42923848, 0.42125906,\n",
       "        0.51687438, 0.52062928, 0.        , 0.46813704, 0.5198684 ,\n",
       "        0.45230861, 0.48375982, 0.35139289, 0.40517603, 0.55920071,\n",
       "        0.41580265, 0.45369646, 0.47166683, 0.50560109, 0.51436627,\n",
       "        0.41175209, 0.49186946, 0.45167122, 0.41480963, 0.39675269,\n",
       "        0.36819425, 0.46242918, 0.44208143, 0.49794621],\n",
       "       [0.81913686, 0.45225913, 0.52732393, 0.51345063, 0.43417081,\n",
       "        0.45070651, 0.46183344, 0.46813704, 0.        , 0.44412483,\n",
       "        0.41920239, 0.43680435, 0.38761698, 0.45817345, 0.47069596,\n",
       "        0.42500415, 0.40259368, 0.46959439, 0.56261251, 0.49298056,\n",
       "        0.41594099, 0.38637954, 0.40000082, 0.36557952, 0.43663609,\n",
       "        0.4234039 , 0.42387014, 0.46012425, 0.52358807],\n",
       "       [0.77116689, 0.44631732, 0.52257827, 0.51824713, 0.4820643 ,\n",
       "        0.50662157, 0.46778786, 0.5198684 , 0.44412483, 0.        ,\n",
       "        0.39591131, 0.35839204, 0.37368121, 0.44606977, 0.51117159,\n",
       "        0.41471694, 0.40960983, 0.56238409, 0.54363569, 0.40736342,\n",
       "        0.43429856, 0.37874598, 0.40780563, 0.40824098, 0.38206486,\n",
       "        0.42716985, 0.37830292, 0.43819327, 0.49941697],\n",
       "       [0.83623545, 0.50157783, 0.54703527, 0.42218773, 0.35466875,\n",
       "        0.39289433, 0.40825822, 0.45230861, 0.41920239, 0.39591131,\n",
       "        0.        , 0.33386351, 0.3913111 , 0.37400542, 0.44411308,\n",
       "        0.39602498, 0.34581295, 0.48985704, 0.60872468, 0.46103076,\n",
       "        0.39189062, 0.37659742, 0.34470817, 0.35975859, 0.40657997,\n",
       "        0.3966117 , 0.37780494, 0.42725363, 0.4114474 ],\n",
       "       [0.80386098, 0.44089934, 0.48663997, 0.45341551, 0.45302963,\n",
       "        0.43369483, 0.40568978, 0.48375982, 0.43680435, 0.35839204,\n",
       "        0.33386351, 0.        , 0.34995931, 0.40098008, 0.4419759 ,\n",
       "        0.41143549, 0.36448888, 0.50920714, 0.52109039, 0.43069213,\n",
       "        0.39683783, 0.34634183, 0.36534654, 0.3787079 , 0.37136145,\n",
       "        0.3987783 , 0.3609761 , 0.40244582, 0.42144502],\n",
       "       [0.73586541, 0.35729797, 0.47002208, 0.43594888, 0.41826953,\n",
       "        0.43547568, 0.41201271, 0.35139289, 0.38761698, 0.37368121,\n",
       "        0.3913111 , 0.34995931, 0.        , 0.36317759, 0.45061495,\n",
       "        0.33015638, 0.3449253 , 0.44919597, 0.41851895, 0.3943393 ,\n",
       "        0.35650389, 0.35146305, 0.34416669, 0.33811248, 0.30400337,\n",
       "        0.31314064, 0.34036111, 0.36625594, 0.4393565 ],\n",
       "       [0.82189191, 0.46270388, 0.56706566, 0.35707462, 0.34281709,\n",
       "        0.42238937, 0.41487306, 0.40517603, 0.45817345, 0.44606977,\n",
       "        0.37400542, 0.40098008, 0.36317759, 0.        , 0.51140856,\n",
       "        0.31171805, 0.34076736, 0.49176199, 0.48400337, 0.46742943,\n",
       "        0.37270682, 0.36234751, 0.34105487, 0.36670701, 0.38869617,\n",
       "        0.28607735, 0.30012655, 0.3734393 , 0.44250786],\n",
       "       [0.78661849, 0.49535204, 0.5098998 , 0.55638552, 0.51053681,\n",
       "        0.45001948, 0.45635526, 0.55920071, 0.47069596, 0.51117159,\n",
       "        0.44411308, 0.4419759 , 0.45061495, 0.51140856, 0.        ,\n",
       "        0.51551207, 0.44914497, 0.57029858, 0.60638816, 0.54010851,\n",
       "        0.49309653, 0.45242559, 0.44891361, 0.44892111, 0.4479273 ,\n",
       "        0.48846121, 0.47289955, 0.49270868, 0.50457798],\n",
       "       [0.80779135, 0.38946317, 0.55685152, 0.40957279, 0.38850298,\n",
       "        0.42922218, 0.4082709 , 0.41580265, 0.42500415, 0.41471694,\n",
       "        0.39602498, 0.41143549, 0.33015638, 0.31171805, 0.51551207,\n",
       "        0.        , 0.37077684, 0.45239833, 0.47812334, 0.44176706,\n",
       "        0.3571474 , 0.37295996, 0.36707837, 0.38266923, 0.39776703,\n",
       "        0.33244603, 0.32941904, 0.37541829, 0.43438236],\n",
       "       [0.82620195, 0.43753545, 0.5076813 , 0.45154444, 0.39857866,\n",
       "        0.41639368, 0.41437604, 0.45369646, 0.40259368, 0.40960983,\n",
       "        0.34581295, 0.36448888, 0.3449253 , 0.34076736, 0.44914497,\n",
       "        0.37077684, 0.        , 0.5025459 , 0.53610351, 0.47864796,\n",
       "        0.39399457, 0.33040416, 0.02385288, 0.36370628, 0.38957365,\n",
       "        0.34045842, 0.32700489, 0.39496424, 0.46677065],\n",
       "       [0.84721065, 0.55607284, 0.63881949, 0.5381061 , 0.53029653,\n",
       "        0.51135434, 0.56123534, 0.47166683, 0.46959439, 0.56238409,\n",
       "        0.48985704, 0.50920714, 0.44919597, 0.49176199, 0.57029858,\n",
       "        0.45239833, 0.5025459 , 0.        , 0.58579123, 0.52605776,\n",
       "        0.45537267, 0.52200734, 0.50084779, 0.46737974, 0.49527251,\n",
       "        0.43483502, 0.51833228, 0.5111584 , 0.5210302 ],\n",
       "       [0.74535006, 0.41842588, 0.59304551, 0.56209852, 0.5841056 ,\n",
       "        0.58577359, 0.50162678, 0.50560109, 0.56261251, 0.54363569,\n",
       "        0.60872468, 0.52109039, 0.41851895, 0.48400337, 0.60638816,\n",
       "        0.47812334, 0.53610351, 0.58579123, 0.        , 0.52063968,\n",
       "        0.48105946, 0.51639499, 0.53698614, 0.50476044, 0.49355165,\n",
       "        0.4831394 , 0.50593142, 0.46218704, 0.53172523],\n",
       "       [0.71985116, 0.43023312, 0.55964039, 0.45282183, 0.50240731,\n",
       "        0.53425127, 0.47384507, 0.51436627, 0.49298056, 0.40736342,\n",
       "        0.46103076, 0.43069213, 0.3943393 , 0.46742943, 0.54010851,\n",
       "        0.44176706, 0.47864796, 0.52605776, 0.52063968, 0.        ,\n",
       "        0.44320098, 0.42054234, 0.47858651, 0.47492417, 0.40859842,\n",
       "        0.45231809, 0.46314782, 0.40384357, 0.48931868],\n",
       "       [0.77473069, 0.43068163, 0.49763255, 0.41107901, 0.39149455,\n",
       "        0.44971759, 0.43479928, 0.41175209, 0.41594099, 0.43429856,\n",
       "        0.39189062, 0.39683783, 0.35650389, 0.37270682, 0.49309653,\n",
       "        0.3571474 , 0.39399457, 0.45537267, 0.48105946, 0.44320098,\n",
       "        0.        , 0.37014482, 0.38853968, 0.39344362, 0.39183596,\n",
       "        0.33679492, 0.3901385 , 0.32906635, 0.43422055],\n",
       "       [0.78996276, 0.40391503, 0.46510911, 0.42587756, 0.39140535,\n",
       "        0.44101123, 0.41774575, 0.49186946, 0.38637954, 0.37874598,\n",
       "        0.37659742, 0.34634183, 0.35146305, 0.36234751, 0.45242559,\n",
       "        0.37295996, 0.33040416, 0.52200734, 0.51639499, 0.42054234,\n",
       "        0.37014482, 0.        , 0.32944041, 0.36095766, 0.39341624,\n",
       "        0.36313336, 0.31560903, 0.35114919, 0.4820787 ],\n",
       "       [0.82570055, 0.43853906, 0.50762815, 0.45139238, 0.39640864,\n",
       "        0.4157523 , 0.41045651, 0.45167122, 0.40000082, 0.40780563,\n",
       "        0.34470817, 0.36534654, 0.34416669, 0.34105487, 0.44891361,\n",
       "        0.36707837, 0.02385288, 0.50084779, 0.53698614, 0.47858651,\n",
       "        0.38853968, 0.32944041, 0.        , 0.36248152, 0.38929865,\n",
       "        0.33825465, 0.32329057, 0.39310501, 0.4634556 ],\n",
       "       [0.82730643, 0.45247265, 0.50461923, 0.46015976, 0.40434653,\n",
       "        0.43435829, 0.39695884, 0.41480963, 0.36557952, 0.40824098,\n",
       "        0.35975859, 0.3787079 , 0.33811248, 0.36670701, 0.44892111,\n",
       "        0.38266923, 0.36370628, 0.46737974, 0.50476044, 0.47492417,\n",
       "        0.39344362, 0.36095766, 0.36248152, 0.        , 0.39287674,\n",
       "        0.38969032, 0.33371731, 0.41084748, 0.46356582],\n",
       "       [0.73669154, 0.43057345, 0.50588143, 0.44157808, 0.45861433,\n",
       "        0.50122244, 0.46401496, 0.39675269, 0.43663609, 0.38206486,\n",
       "        0.40657997, 0.37136145, 0.30400337, 0.38869617, 0.4479273 ,\n",
       "        0.39776703, 0.38957365, 0.49527251, 0.49355165, 0.40859842,\n",
       "        0.39183596, 0.39341624, 0.38929865, 0.39287674, 0.        ,\n",
       "        0.34855038, 0.38972022, 0.38515211, 0.46855066],\n",
       "       [0.76258229, 0.43940481, 0.53727933, 0.36340736, 0.35041728,\n",
       "        0.42634095, 0.43924946, 0.36819425, 0.4234039 , 0.42716985,\n",
       "        0.3966117 , 0.3987783 , 0.31314064, 0.28607735, 0.48846121,\n",
       "        0.33244603, 0.34045842, 0.43483502, 0.4831394 , 0.45231809,\n",
       "        0.33679492, 0.36313336, 0.33825465, 0.38969032, 0.34855038,\n",
       "        0.        , 0.35049722, 0.34673145, 0.45262053],\n",
       "       [0.83679798, 0.4323332 , 0.51974118, 0.42350471, 0.37222582,\n",
       "        0.41405349, 0.3767467 , 0.46242918, 0.42387014, 0.37830292,\n",
       "        0.37780494, 0.3609761 , 0.34036111, 0.30012655, 0.47289955,\n",
       "        0.32941904, 0.32700489, 0.51833228, 0.50593142, 0.46314782,\n",
       "        0.3901385 , 0.31560903, 0.32329057, 0.33371731, 0.38972022,\n",
       "        0.35049722, 0.        , 0.4136018 , 0.45343656],\n",
       "       [0.6983311 , 0.41300473, 0.51321606, 0.36974788, 0.41427896,\n",
       "        0.47057223, 0.42963723, 0.44208143, 0.46012425, 0.43819327,\n",
       "        0.42725363, 0.40244582, 0.36625594, 0.3734393 , 0.49270868,\n",
       "        0.37541829, 0.39496424, 0.5111584 , 0.46218704, 0.40384357,\n",
       "        0.32906635, 0.35114919, 0.39310501, 0.41084748, 0.38515211,\n",
       "        0.34673145, 0.4136018 , 0.        , 0.41969469],\n",
       "       [0.76152733, 0.48252604, 0.58525998, 0.46045837, 0.47344803,\n",
       "        0.47191682, 0.41465917, 0.49794621, 0.52358807, 0.49941697,\n",
       "        0.4114474 , 0.42144502, 0.4393565 , 0.44250786, 0.50457798,\n",
       "        0.43438236, 0.46677065, 0.5210302 , 0.53172523, 0.48931868,\n",
       "        0.43422055, 0.4820787 , 0.4634556 , 0.46356582, 0.46855066,\n",
       "        0.45262053, 0.45343656, 0.41969469, 0.        ]])"
      ]
     },
     "execution_count": 119,
     "metadata": {},
     "output_type": "execute_result"
    }
   ],
   "source": [
    "dist"
   ]
  },
  {
   "cell_type": "code",
   "execution_count": 120,
   "metadata": {},
   "outputs": [],
   "source": [
    "out = open('dist.txt', 'w')\n",
    "for i in range(dist.shape[0]):\n",
    "    for j in range(dist.shape[1]):\n",
    "        out.write(str(dist[i, j]).ljust(20) + ' ')\n",
    "    out.write('\\n')\n",
    "out.close()"
   ]
  },
  {
   "cell_type": "code",
   "execution_count": 121,
   "metadata": {},
   "outputs": [
    {
     "data": {
      "image/png": "[encoded data removed]",
      "text/plain": [
       "<Figure size 432x288 with 1 Axes>"
      ]
     },
     "metadata": {
      "needs_background": "light"
     },
     "output_type": "display_data"
    }
   ],
   "source": [
    "import matplotlib.pyplot as plt\n",
    "\n",
    "plt.plot(centroids[:,2], centroids[:,3], 'o')\n",
    "plt.show()"
   ]
  },
  {
   "cell_type": "code",
   "execution_count": 122,
   "metadata": {},
   "outputs": [],
   "source": [
    "from sklearn.mixture import GaussianMixture\n",
    "gmm = GaussianMixture(n_components=5).fit(centroids)\n",
    "labels = gmm.predict(centroids)"
   ]
  },
  {
   "cell_type": "code",
   "execution_count": 123,
   "metadata": {},
   "outputs": [
    {
     "name": "stdout",
     "output_type": "stream",
     "text": [
      "2006     My Island Home                                     0\n",
      "1987     We Are Singapore                                   1\n",
      "1997     Future In My Dreams                                1\n",
      "2005     Reach Out For The Skies                            1\n",
      "2009     What Do You See?                                   1\n",
      "2010     Song for Singapore                                 1\n",
      "2011     In A Heartbeat                                     1\n",
      "2015     Our Singapore                                      1\n",
      "1969     Five Stars Arising                                 2\n",
      "1990     One People, One Nation, One Singapore              2\n",
      "1999     Moments of Magic                                   2\n",
      "1999-2   Together                                           2\n",
      "2000     Shine On Me                                        2\n",
      "2003     One United People                                  2\n",
      "2007-2   Will You                                           2\n",
      "2012     Love At First Light                                2\n",
      "2017     Because It's Singapore                             2\n",
      "1962     Singapura, Sunny Island                            3\n",
      "1967     Singapore Town                                     4\n",
      "1984     Stand Up for Singapore                             4\n",
      "1986     Count On Me Singapore                              4\n",
      "1991     It's the Little Things                             4\n",
      "2001     Where I Belong                                     4\n",
      "2002     We Will Get There                                  4\n",
      "2004     Home                                               4\n",
      "2007     There's No Place I'd Rather Be                     4\n",
      "2008     Shine For Singapore                                4\n",
      "2013     One Singapore                                      4\n",
      "2016     Tomorrow's Here Today                              4\n"
     ]
    }
   ],
   "source": [
    "for s, l in sorted(zip(song_years, labels), key = lambda x: x[1]):\n",
    "    print(s.ljust(8), song_names[s].ljust(50),l)"
   ]
  },
  {
   "cell_type": "code",
   "execution_count": 124,
   "metadata": {},
   "outputs": [],
   "source": [
    "from joblib import dump, load\n",
    "#dump(gmm, 'gmm-5cluster-best.joblib')"
   ]
  },
  {
   "cell_type": "code",
   "execution_count": 127,
   "metadata": {},
   "outputs": [
    {
     "data": {
      "text/plain": [
       "array([1, 3, 2, 4, 4, 0, 0, 4, 2, 0, 0, 0, 4, 4, 0, 4, 2, 4, 3, 4, 4, 2,\n",
       "       2, 0, 4, 4, 2, 4, 0], dtype=int32)"
      ]
     },
     "execution_count": 127,
     "metadata": {},
     "output_type": "execute_result"
    }
   ],
   "source": [
    "from sklearn.cluster import KMeans\n",
    "kmeans = KMeans(n_clusters=5).fit(centroids)\n",
    "kmeans.labels_"
   ]
  },
  {
   "cell_type": "code",
   "execution_count": 128,
   "metadata": {},
   "outputs": [
    {
     "name": "stdout",
     "output_type": "stream",
     "text": [
      "1987     We Are Singapore                                   0\n",
      "1990     One People, One Nation, One Singapore              0\n",
      "1999     Moments of Magic                                   0\n",
      "1999-2   Together                                           0\n",
      "2000     Shine On Me                                        0\n",
      "2003     One United People                                  0\n",
      "2011     In A Heartbeat                                     0\n",
      "2017     Because It's Singapore                             0\n",
      "1962     Singapura, Sunny Island                            1\n",
      "1969     Five Stars Arising                                 2\n",
      "1997     Future In My Dreams                                2\n",
      "2005     Reach Out For The Skies                            2\n",
      "2009     What Do You See?                                   2\n",
      "2010     Song for Singapore                                 2\n",
      "2015     Our Singapore                                      2\n",
      "1967     Singapore Town                                     3\n",
      "2007     There's No Place I'd Rather Be                     3\n",
      "1984     Stand Up for Singapore                             4\n",
      "1986     Count On Me Singapore                              4\n",
      "1991     It's the Little Things                             4\n",
      "2001     Where I Belong                                     4\n",
      "2002     We Will Get There                                  4\n",
      "2004     Home                                               4\n",
      "2006     My Island Home                                     4\n",
      "2007-2   Will You                                           4\n",
      "2008     Shine For Singapore                                4\n",
      "2012     Love At First Light                                4\n",
      "2013     One Singapore                                      4\n",
      "2016     Tomorrow's Here Today                              4\n"
     ]
    }
   ],
   "source": [
    "for s, l in sorted(zip(song_years, kmeans.labels_), key = lambda x: x[1]):\n",
    "    print(s.ljust(8), song_names[s].ljust(50),l)"
   ]
  },
  {
   "cell_type": "code",
   "execution_count": null,
   "metadata": {},
   "outputs": [],
   "source": []
  }
 ],
 "metadata": {
  "kernelspec": {
   "display_name": "Python 3",
   "language": "python",
   "name": "python3"
  },
  "language_info": {
   "codemirror_mode": {
    "name": "ipython",
    "version": 3
   },
   "file_extension": ".py",
   "mimetype": "text/x-python",
   "name": "python",
   "nbconvert_exporter": "python",
   "pygments_lexer": "ipython3",
   "version": "3.5.4"
  }
 },
 "nbformat": 4,
 "nbformat_minor": 2
}
