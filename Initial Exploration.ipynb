{
 "cells": [
  {
   "cell_type": "code",
   "execution_count": 3,
   "metadata": {},
   "outputs": [],
   "source": [
    "import gensim\n",
    "\n",
    "# Load Google's pre-trained Word2Vec model.\n",
    "model = gensim.models.KeyedVectors.load_word2vec_format('./model/GoogleNews-vectors-negative300.bin', binary=True)  "
   ]
  },
  {
   "cell_type": "code",
   "execution_count": 65,
   "metadata": {},
   "outputs": [
    {
     "name": "stdout",
     "output_type": "stream",
     "text": [
      "defaultdict(<class 'set'>, {'1962': {'Come', 'you', 'island', 'sets', 'Sunny', 'the', 'our', 'for', 'join', 'oh', 'bloom', 'merry', 'Join', 'along', 'Pretty', 'song', 'in', 'Blend', 'flowers'}, '1967': {\"you'll\", 'Quay', 'sunrise', 'turning', 'us', 'unforgettable', 'light', 'striving', 'other', 'you', 'happiness', 'take', 'around', 'In', 'Because', 'hundred', 'Raffles', 'the', 'bus', 'buildings', 'for', 'into', 'Collyer', 'For', 'people', 'Place', 'an', \"You'll\", \"there's\", 'way', 'could', 'Esplanade', 'everyone', 'are', 'Singapore', 'on', 'sky', 'And', 'I', 'all', 'big', 'find', 'climbing', 'see', \"it's\", 'trip', 'You', 'in', 'faraway', \"Let's\", 'like', 'sight', 'city', 'town', 'who', 'little', 'hearts', 'To', 'Their', 'The', 'go', 'wide', 'down', 'darkness'}, '1969': {'white', 'truth', 'new', 'love', 'blood', 'happy', 'the', 'lamp', 'out', 'guide', 'our', 'yet', 'for', 'we', 'Each', 'as', 'stormy', 'moon', 'five', 'Youthful', 'are', 'free', 'tranquil', 'all', 'flag', 'is', 'pure', 'sea', 'see', 'Crimson', 'There', 'can', 'be', 'bright', 'bearing', \"There's\", 'stars', 'proud', 'Reach'}, '1984': {'fellow', 'right', 'Together', \"You've\", 'you', 'from', 'prepared', 'us', 'share', 'something', 'care', 'give', 'Let', 'really', 'home', 'more', 'the', 'out', 'our', 'for', 'do', 'Recognise', \"You'll\", 'determination', 'best', 'never', 'with', 'Singapore', 'stand', 'So', \"we've\", 'all', 'Join', 'man', 'find', 'nation', 'part', 'up', 'come', 'Be', 'worthwhile', 'can', 'play', 'Believe', 'done', 'make', 'smile', 'show', 'in', 'If', 'your', 'like', 'before', 'got', 'little', 'Stand', \"you've\", 'it', 'Reach', 'heart'}, '1986': {'going', 'you', 'share', 'something', 'give', 'my', 'world', 'told', 'more', \"we'll\", 'the', 'feeling', 'achieve', 'our', 'we', 'for', 'do', 'count', 'that', 'bold', 'believe', 'best', 'too', 'are', 'Singapore', \"We're\", 'stand', 'on', 'strive', 'what', 'me', 'all', 'build', 'is', \"can't\", 'vision', 'just', 'We', \"it's\", 'road', 'There', 'can', 'have', 'show', 'be', 'goal', 'You', 'in', 'no', \"There's\", 'try', 'better', 'Count', 'Together', 'spirit', 'down', 'heart'}, '1987': {'so', 'us', 'one', 'time', 'Regardless', 'but', 'Prosperity', 'Singaporeans', 'for', 'as', 'that', 'people', 'much', 'said', 'make', 'That', 'ourselves', 'when', 'So', \"won't\", 'harmony', 'happiness', 'my', 'out', 'hear', 'was', 'free', 'stand', 'equality', 'did', 'is', 'citizens', 'We', 'peace', 'come', 'progress', 'together', 'marching', 'democratic', 'far', 'life', 'All', 'language', 'seemed', 'society', 'built', 'united', 'the', 'too', 'are', 'on', 'Pledge', 'belong', 'flag', 'common', 'build', 'strong', 'religion', \"We've\", 'or', 'destiny', 'roar', 'will', 'achieve', 'our', 'we', 'Based', 'This', 'For', 'justice', 'here', 'Singapore', 'reaching', \"We're\", 'these', 'friends', 'nation', 'forevermore', \"it's\", 'There', 'lion', 'troubles', 'this', 'To'}, '1990': {'hands', 'dozen', 'from', \"we're\", 'now', 'one', 'Strangers', 'creed', 'place', 'time', 'world', 'has', 'will', 'built', 'reach', 'lands', 'the', 'One', 'hand', 'out', 'our', 'we', 'first', 'for', 'join', 'that', 'people', 'way', \"We'll\", 'where', 'Singaporean', 'never', 'with', 'Singapore', 'stand', 'Every', 'And', 'nation', 'forevermore', 'just', \"it's\", \"That's\", 'test', 'show', 'be', 'role', 'in', \"Let's\", 'vigilance', 'rest', \"We've\", 'toil', 'comes', 'when', 'Our', 'The', 'every'}, '1991': {'hope', 'others', 'one', 'place', 'give', 'happy', 'Over', 'for', 'No', 'that', 'know', 'part', 'brighter', 'make', 'grown', 'things', 'Home', 'down', 'heart', 'my', 'feel', 'love', \"I've\", 'call', 'My', 'joy', 'beautiful', 'The', \"children's\", 'me', 'safe', 'all', 'days', 'air', 'in', 'warm', 'life', \"It's\", 'good', 'care', 'cares', 'warms', 'the', 'cared', 'way', 'ways', 'where', 'I', 'And', 'inside', 'Cause', 'deep', 'You', \"that's\", 'like', \"you're\", 'laughter', 'little', 'always', 'matter', 'destiny', \"You've\", 'you', 'share', 'our', 'we', 'how', 'accustomed', 'here', 'may', 'be', 'your', 'no', \"I'll\", \"You're\", 'it', 'opened'}, '1997': {'beauty', 'hope', 'dreams', 'light', 'flying', 'one', 'across', 'my', 'land', 'will', 'In', 'reach', 'birds', 'the', 'our', 'we', 'freedom', 'true', 'day', 'are', 'Every', 'I', 'wish', 'free!', 'We', 'see', 'come', 'future', \"it's\", 'be', 'in', \"There's\", 'Yes!', 'it', 'heart'}, '1999-2': {'ever', 'choices', 'destiny', 'families', 'lies', 'us', 'one', 'share', 'new', 'my', 'feel', 'Let', 'reach', 'will', 'In', \"we'll\", 'the', 'hand', 'achieve', 'out', 'our', 'we', 'for', 'into', 'joy', 'No', 'that', 'ways', 'way', 'goals', 'remain', 'never', 'everyone', 'with', 'homeland', 'Singapore', 'Stepping', 'on', 'I', 'every', 'strive', 'friends', 'strength', 'is', 'find', 'Through', 'New', 'As', 'special', 'We', 'shine', 'heartbeat', 'have', 'together', 'hold', 'make', 'be', 'change', 'in', 'Creating', 'no', 'by', 'aspire', 'mind', 'if', 'Nothing', 'this', 'hearts', 'always', 'harmony', 'go', 'Together', 'working', 'World', 'matter', 'heart'}, '1999': {'river', 'dreams', 'us', 'time', 'share', 'new', 'unfold', 'world', 'let', 'different', 'Let', 'reach', 'will', 'beginning', 'celebrate', 'more', 'feeling', 'out', 'brand', 'our', 'we', 'for', 'into', 'This', 'as', 'day', 'Tomorrow', 'magic', 'where', 'inspiration', 'never', 'The', 'way', 'horizon', 'on', 'Like', 'all', 'friends', 'bring', 'is', 'find', 'Moving', 'move', 'We', 'A', 'Time', 'there', 'enchanting', 'like', 'city', 'Moments', \"There's\", 'awaits', 'this', 'always', 'shines', 'moments', 'go', 'brings', 'treasure', 'hopes'}, '2000': {'so', 'Into', 'choices', 'families', 'lies', 'dreams', 'us', 'Turning', 'one', 'share', 'born', 'my', 'world', 'Let', 'In', 'will', 'home', 'more', 'reach', 'the', 'out', 'our', 'we', 'into', 'reality', 'joy', 'true', 'as', 'for', 'Make', 'For', 'shining', 'much', 'than', 'best', 'Stepping', 'with', 'was', 'homeland', 'on', 'I', 'me', 'what', 'friends', 'all', 'strength', 'Reaching', 'build', 'afar', 'New', 'As', 'come', 'can', 'shine', 'lead', 'make', 'be', 'Crescent', 'recall', 'moment', 'crescent', 'young', \"There's\", 'stronger', 'this', 'grow', 'when', 'Stars', 'always', 'The', 'Shining', 'All', 'World', 'hopes', 'heart'}, '2001': {'so', 'Morning', 'dreams', 'us', 'one', 'place', 'wait', 'In', 'hand', 'night', 'bitter', 'for', 'as', 'know', 'become', 'streets', 'walk', 'Seeing', \"day's\", 'see', 'future', 'family', 'sunny', 'That', 'glorious', 'heart', 'families', 'my', 'out', 'towards', 'beautiful', 'memories', 'wonderful', 'me', 'safe', 'Where', 'is', 'As', 'soul', 'come', 'shout', 'kept', 'shine', 'together', \"They're\", 'in', 'bright', 'still', 'comes', 'learn', \"we're\", 'whole', 'world', 'around', 'home', 'the', 'loud', 'at', 'Bright', 'where', 'closer', 'I', 'on', 'And', 'belong', 'big', 'side', 'through', 'Guiding', 'by', 'precious', 'grow', 'always', 'or', 'matter', 'whether', 'keep', 'island', 'its', 'will', 'Friends', \"Can't\", 'we', 'true', 'lights', 'am', 'sour', 'Every', 'sweet', \"it's\", 'they', 'close', 'be', 'rain', 'no', 'this', 'To', 'want', \"I'll\", 'it'}, '2002': {'so', 'hope', 'from', 'new', 'Deep', \"we'll\", 'hand', 'for', 'as', 'that', 'much', 'start', 'could', 'know', 'darkest', \"couldn't\", 'By', 'family', 'Be', 'there', 'again', 'things', 'when', 'So', 'working', 'heart', 'ever', 'stood', 'now', 'overcome', 'after', 'my', 'Right', 'love', 'tame', 'out', \"there's\", 'with', 'stand', \"weren't\", 'all', 'We', 'A', 'come', 'play', 'together', \"we'd\", 'change', 'in', 'sharing', 'set', 'still', 'far', 'Nothing', 'life', 'Together', 'had', 'care', 'thought', 'world', 'anything', 'the', 'knew', 'way', 'where', 'win', 'I', 'And', \"we've\", 'Remember', 'build', 'must', 'side', 'why', 'just', 'possible', 'can', 'contribute', 'by', \"There's\", \"We've\", 'little', 'grow', 'struggled', 'go', 'get', 'share', 'Then', 'long', 'will', 'our', 'we', 'Look', \"don't\", 'storms', 'anew', 'If', 'Believing', \"I'll\", 'it', 'With'}, '2003': {'lighting', 'you', 'one', 'island', 'voices', 'share', 'rainbow', 'its', 'from', 'my', 'different', 'will', 'thousand', '&', 'sing', 'united', 'the', 'One', 'hand', 'My', 'voice', 'our', 'we', 'for', 'as', 'sun', 'people', 'where', 'are', 'Singapore', 'free', 'stand', 'homeland', 'sky', 'I', 'strength', 'build', 'is', 'colors', 'nation', 'We', 'up', 'A', 'future', 'heartbeat', 'together', 'brighter', 'make', 'in', 'strong', 'this', 'Our', 'harmony', 'With'}, '2004': {'stay', 'tell', 'dreams', 'us', 'place', 'wait', 'which', 'feeling', \"we'll\", 'for', 'Wherever', 'as', 'that', 'people', \"I'm\", 'start', 'about', 'know', 'Just', 'When', 'there', 'senses', 'Whenever', 'That', 'before', 'So', \"won't\", 'down', 'my', 'low', 'me', 'Where', 'is', 'find', 'within', 'together', 'in', 'comfort', 'city', 'life', 'brings', 'every', 'around', 'home', 'street', 'the', 'look', 'Know', 'way', 'where', 'knowledge', 'too', 'are', 'I', 'flows', \"we've\", 'build', 'must', 'through', 'done', 'like', \"There's\", 'always', 'go', 'river', 'Sail', 'its', 'will', 'our', 'This', 'For', 'choose', \"We'll\", 'am', 'Singapore', \"it's\", 'There', 'may', 'shore', 'be', 'anew', 'troubles', 'recall', 'this', 'Winding'}, '2005': {'hope', 'dreams', 'one', 'time', \"we'll\", 'hand', 'standing', 'for', 'do', 'about', 'When', 'flame', 'tall', 'future', 'family', 'At', 'make', 'soar', 'when', 'proud', 'my', 'reach', 'out', 'unsure', 'best', 'was', 'low', 'free', 'Building', 'me', 'think', 'all', 'As', 'We', 'come', 'within', 'kept', 'wings', 'in', 'hearts', 'seemed', 'journey', \"It's\", 'the', 'high', 'on', 'I', 'skies', 'through', 'can', 'strong', \"We've\", 'destiny', 'alive', 'has', 'achieve', 'our', 'we', 'For', \"We'll\", 'Now', 'here', 'strive', 'friends', 'But', 'up', 'be', \"Let's\", 'want', 'Our', 'To', 'The', 'it', 'spirit', 'touch', 'hopes', 'With'}, '2006': {'beauty', 'she', 'dreams', 'you', 'island', 'born', 'everything', 'my', 'land', 'will', 'In', 'forget', 'home', 'sing', 'My', 'Wherever', 'This', 'that', 'day', 'believe', 'never', 'are', 'I', 'And', 'me', 'all', 'Where', 'is', 'her', 'Grace', 'part', 'see', 'A', 'peace', 'family', 'future', 'may', 'song', 'be', 'You', 'Nor', 'Home', 'always', 'want', 'every'}, '2007-2': {'Songs', 'brave', 'nights', 'corner', 'country', 'dreams', 'you', 'island', 'from', 'us', 'Will', 'place', 'live', 'new', 'dare', 'let', 'take', 'will', 'swim', 'home', 'greets', 'the', 'help', 'Delightful', 'that', 'smiles', 'stories', 'write', 'everyone', 'turn', 'on', 'And', 'all', 'Surprises', 'find', 'Amazing', 'come', 'scale', 'days', 'seize', 'make', 'in', 'each', 'grand', 'your', 'city', 'this', 'To', 'So', 'it', 'every', 'With'}, '2007': {\"I'll\", 'walked', 'one', 'sunsets', 'place', 'Great', 'old', 'night', 'loved', 'roamed', 'know', 'UK', 'grew', 'West', 'Wall', 'streets', 'part', 'Discovered', 'see', 'family', \"I'd\", 'okay', 'Bombay', 'when', 'catch', 'So', 'nights', 'Big', 'crossed', 'my', 'braved', 'hour', 'sail', \"I've\", 'day', \"there's\", 'Francisco', 'Eiffel', 'away', 'Yet', 'with', 'me', 'think', 'is', 'Seen', 'wanna', 'End', 'in', 'each', 'Cairo', 'still', 'every', \"It's\", 'Experienced', 'thought', 'rather', 'world', 'home', 'the', 'London', 'miss', 'Broadway', 'where', 'on', 'I', 'And', 'climbed', 'LA', 'Cause', 'why', 'skies', 'signs', 'plays', \"that's\", 'danced', \"There's\", 'Taipei', 'always', 'queued', 'cross', 'river', 'you', 'long', 'even', 'This', 'neon', 'Kwai', \"You'll\", 'oh', 'sour', 'sweet', 'friends', 'seen', 'But', \"don't\", 'up', \"it's\", 'seas', 'be', 'San', 'no', 'rain', 'To', 'The'}, '2008': {'so', 'dreams', 'one', 'Your', 'dark', 'Deep', \"we'll\", 'Nowhere', 'for', 'that', 'star', 'believe', 'Shine', \"I'd\", 'there', 'heart', 'out', 'made', 'begins', 'with', 'free', 'sky', 'me', 'all', 'is', 'As', 'beyond', 'come', 'far', 'shines', 'every', \"It's\", 'visions', \"we're\", 'Or', 'rather', 'home', 'the', 'where', 'belong', 'inside', 'vision', 'moved', 'can', 'seems', 'You', 'strong', 'always', 'Reach', 'matter', 'However', 'Have', 'you', 'will', 'sing', 'One', 'achieve', 'vast', 'our', 'we', 'true', 'This', 'belongs', 'here', 'Singapore', 'seen', \"it's\", 'may', 'Strive', 'guides', 'song', 'be', 'If', 'your', 'no', 'heard', 'this', 'it', 'hopes'}, '2009': {'imagine', 'seven', 'dreams', 'time', 'See', 'take', 'million', 'climb', 'do', 'as', 'that', 'believe', 'could', 'gem', 'bring', 'not', 'see', 'future', 'family', 'carried', 'upon', 'have', 'That', 'when', 'only', 'top', 'reach', 'more', 'sail', 'afraid', 'Cos', 'highest', 'sun', 'an', 'wind', 'thoughts', 'stand', 'sky', 'what', 'Where', 'is', 'As', 'courage', 'We', 'A', 'come', 'gonna', 'shine', 'together', 'in', 'set', 'far', 'hearts', 'life', 'Together', 'jewel', 'land', 'open', 'around', 'book', 'brightly', 'the', 'at', 'look', 'skys', 'way', 'minds', 'are', 'on', 'makes', 'can', 'youre', \"There's\", 'or', 'Youll', 'destiny', 'you', 'share', 'long', 'has', 'will', 'What', 'achieve', 'our', 'we', 'sights', 'into', 'how', 'Now', 'moon', 'limit', 'nothings', 'reaching', 'dream', 'strength', 'Look', 'sea', 'they', 'up', 'may', 'seas', 'your', 'this', 'To', 'The', 'mountain', 'it', 'tomorrow', 'hopes', 'With'}, '2010': {'hope', 'dreams', 'one', 'time', \"we'll\", 'hand', 'standing', 'for', 'do', 'about', 'When', 'flame', 'tall', 'future', 'family', 'At', 'make', 'soar', 'when', 'proud', 'my', 'reach', 'out', 'unsure', 'best', 'was', 'low', 'free', 'Building', 'me', 'think', 'all', 'As', 'We', 'come', 'within', 'kept', 'wings', 'in', 'hearts', 'journey', \"It's\", 'the', 'high', 'on', 'I', 'skies', 'through', 'can', 'seems', 'strong', \"We've\", 'destiny', 'alive', 'has', 'achieve', 'our', 'we', 'For', \"We'll\", 'Now', 'here', 'strive', 'friends', 'But', 'up', 'be', \"Let's\", 'want', 'Our', 'To', 'The', 'it', 'spirit', 'touch', 'hopes', 'With'}, '2011': {'hope', 'country', 'light', 'you', 'one', 'time', 'us', 'alive', 'place', 'new', 'my', 'has', 'land', 'will', 'In', 'reach', 'home', 'beginning', 'else', 'the', 'at', 'our', 'we', 'for', 'freedom', 'do', 'This', 'sun', 'as', 'today', 'renew', 'start', 'way', 'passed', 'where', 'dream', 'I', 'sky', 'stand', 'me', 'beat', 'is', 'part', 'We', 'family', \"it's\", 'flame', 'can', 'Living', 'there', 'heartbeat', 'have', 'play', 'calling', 'spirits', 'be', 'found', 'in', 'role', 'step', 'under', 'no', 'moment', 'by', 'strong', 'starting', 'Nothing', 'this', 'hearts', 'life', 'always', 'beats', \"I'll\", 'it', 'heart'}, '2012': {'flight', 'light', 'dreams', 'us', 'one', 'place', 'Hand', 'new', 'Your', 'take', 'feeling', 'Night', 'that', 'much', 'peaceful', 'know', 'shared', 'When', 'special', 'see', 'sunny', 'stirred', 'brighter', 'So', 'Come', 'ever', 'my', 'love', 'My', 'first', 'put', 'finally', 'meet', 'what', 'spring', 'Where', 'binds', 'find', 'We', 'rolls', 'Ready', 'in', 'bright', 'city', 'Sights', 'the', 'closest', 'at', 'look', 'feels', 'I', 'on', 'And', 'can', 'wake', 'like', 'stars', 'across', 'you', 'lively', 'different', 'has', 'twinkling', 'tastes', 'our', 'we', 'smiles', 'Now', 'Day', 'here', 'friends', 'up', 'forward', 'add', 'First', 'Warm', 'be', 'no', 'if', 'this', 'it'}, '2013': {'so', 'dreams', 'give', 'but', \"we'll\", 'for', 'more.', 'as', 'that', \"I'm\", 'much', 'stories', 'know', 'Just', 'not', 'shared', 'hold', 'make', 'That', 'looking', 'keeps', 'when', 'Yeah', 'ever', 'everything', 'my', 'love', 'reach', 'bravely', 'spot', 'call', 'Cos', 'join', 'memories', 'Many', 'with', 'tiny', 'bell', 'all', 'is', 'We', 'come', 'gonna', 'play', 'shine', 'together', 'sharing', 'bright', 'got', 'hearts', 'life', 'Together', 'recess', 'seem', 'rings', 'rainbow', 'home', 'the', 'look', 'It', 'are', 'I', 'on', 'Thus', 'Like', 'sure', 'side', 'just', 'story', 'can', 'Light', 'show', 'seems', 'Oh', 'Here', 'like', 'by', 'stronger', 'dots', 'right', 'you', 'long', 'will', 'Let', 'thing', 'sing', 'wanted', 'One', 'our', 'we', 'This', 'For', 'how', 'here', 'Singapore', \"We're\", 'up', 'may', 'be', \"Let's\", 'your', 'this', 'want', 'Our', 'it'}, '2015': {'us', 'one', 'new', 'amazing', 'as', 'could', 'many', 'ahead', 'easy', 'see', 'have', 'building', 'hold', 'years', 'started', 'when', 'So', 'down', 'only', 'heart', 'now', 'challenge', 'love', 'out', 'towards', 'gone', 'gather', 'best', 'nothing', 'with', 'rocky', 'me', 'all', 'Through', 'is', 'courage', 'A', 'come', 'shine', 'together', 'far', 'world', 'land', 'around', 'built', 'home', \"isn't\", 'the', 'look', 'It', 'where', 'high', 'on', 'And', \"we've\", 'moved', 'done', 'seems', 'by', \"We've\", 'grow', 'go', 'brave', 'right', 'you', 'something', 'will', 'our', 'we', 'yet', 'Especially', 'won', 'dreaming', 'Singapore', 'dream', 'But', 'nation', 'up', 'road', 'carry', 'be', 'conviction', 'core', 'if', 'To', 'Our', 'The', 'it', 'tomorrow', 'treasure'}, '2016': {'dreams', 'light', 'Till', 'new', 'See', 'hand', 'standing', 'No', 'that', 'bang', 'know', 'not', 'When', 'tall', 'fly', 'see', 'Be', \"tomorrow's\", 'make', 'Home', 'Yeah', 'Come', 'out', 'own', 'higher', 'day', 'away', 'fire', 'yearning', 'sky', 'what', 'all', 'plain', 'drum', 'is', \"can't\", 'beyond', 'come', 'within', 'together', 'calling', 'name', 'in', 'Walking', 'stop', 'hearts', 'run', 'any', 'leap', 'fall', \"we're\", 'Fly', 'world', 'the', 'brand', 'way', 'where', 'are', 'on', 'And', 'beat', 'flag', 'Raise', 'Echoing', 'Cause', 'just', 'skies', 'Time', 'deep', 'can', 'Looking', 'You', 'eyes', 'wishes', \"let's\", 'by', \"you're\", 'who', 'stars', 'go', 'head', 'weather', 'right', 'you', 'has', 'will', 'sing', 'our', 'we', 'into', 'This', 'Dream', 'Make', 'today', 'how', 'begin', 'here', 'Step', 'raise', 'along', 'up', \"it's\", 'may', 'song', 'be', 'alone', 'your', 'Take', 'want', 'it', 'Feel', 'With'}, '2017': {'stay', \"It's\", 'one', 'island', 'Hand', 'world', 'back', 'love', 'home', 'Because', \"we'll\", 'the', 'hand', 'call', 'Life', 'Everyone', 'our', 'we', 'compares', 'as', 'that', 'Back', 'Singaporean', 'where', 'are', 'know', 'Singapore', 'Step', 'Where', 'build', 'is', 'We', \"it's\", 'Living', 'friend', 'in', 'step', 'by', 'Nothing', 'grow', 'this', 'To', 'harmony', 'The', 'Together', 'brave', 'undivided', 'Heart', 'heart'}})\n"
     ]
    },
    {
     "data": {
      "text/plain": [
       "['1962',\n",
       " '1967',\n",
       " '1969',\n",
       " '1984',\n",
       " '1986',\n",
       " '1987',\n",
       " '1990',\n",
       " '1991',\n",
       " '1997',\n",
       " '1999',\n",
       " '1999-2',\n",
       " '2000',\n",
       " '2001',\n",
       " '2002',\n",
       " '2003',\n",
       " '2004',\n",
       " '2005',\n",
       " '2006',\n",
       " '2007',\n",
       " '2007-2',\n",
       " '2008',\n",
       " '2009',\n",
       " '2010',\n",
       " '2011',\n",
       " '2012',\n",
       " '2013',\n",
       " '2015',\n",
       " '2016',\n",
       " '2017']"
      ]
     },
     "execution_count": 65,
     "metadata": {},
     "output_type": "execute_result"
    }
   ],
   "source": [
    "import os\n",
    "import collections\n",
    "\n",
    "songs = collections.defaultdict(set)\n",
    "song_names = dict()\n",
    "for f in sorted(os.listdir('songs')):\n",
    "    if f[0] == '.':\n",
    "        continue\n",
    "    \n",
    "    for i, l in enumerate(open('songs/' + f, 'r').readlines()):\n",
    "        if i == 0:\n",
    "            song_names[f.split(\".\")[0]] = l.strip()\n",
    "        # Ignore song name\n",
    "        if i < 2:\n",
    "            continue\n",
    "        \n",
    "        arr = l.strip().split(\" \")\n",
    "        \n",
    "        for a in arr:\n",
    "            if a == '':\n",
    "                continue\n",
    "            if a not in model.vocab:\n",
    "                continue\n",
    "            songs[f.split(\".\")[0]].add(a)\n",
    "\n",
    "print(songs)\n",
    "song_years = sorted(list(songs.keys()))\n",
    "song_years"
   ]
  },
  {
   "cell_type": "code",
   "execution_count": 100,
   "metadata": {},
   "outputs": [],
   "source": [
    "import numpy as np\n",
    "import copy\n",
    "\n",
    "centroids = np.zeros((len(song_years), 300))\n",
    "\n",
    "for i in range(len(song_years)):\n",
    "    l = list(songs[song_years[i]])\n",
    "    centroids[i] = copy.copy(model[l[0]])\n",
    "    \n",
    "    for w in range(1, len(l)):\n",
    "        centroids[i] += model[l[w]]\n",
    "    \n",
    "    #centroids[i] /= len(l)"
   ]
  },
  {
   "cell_type": "code",
   "execution_count": 101,
   "metadata": {},
   "outputs": [],
   "source": [
    "dist = np.zeros((len(songs.keys()), len(songs.keys())))"
   ]
  },
  {
   "cell_type": "code",
   "execution_count": 102,
   "metadata": {},
   "outputs": [],
   "source": [
    "for i in range(dist.shape[0]):\n",
    "    for j in range(dist.shape[1]):\n",
    "        dist[i, j] = np.linalg.norm(centroids[i] - centroids[j])"
   ]
  },
  {
   "cell_type": "code",
   "execution_count": 103,
   "metadata": {},
   "outputs": [
    {
     "data": {
      "text/plain": [
       "array([[ 0.        , 42.81775139, 25.68254472, 45.35793312, 44.11208309,\n",
       "        65.53252145, 36.4454019 , 63.44267586, 24.38986124, 43.54195464,\n",
       "        59.05271877, 53.18048669, 76.10454971, 80.85531401, 37.39337167,\n",
       "        65.55039083, 58.25738642, 35.56568183, 76.57052055, 34.37801308,\n",
       "        60.47463136, 84.65393363, 58.23622205, 55.7064247 , 61.86866693,\n",
       "        86.91866936, 68.59641076, 86.02410835, 32.18125789],\n",
       "       [42.81775139,  0.        , 33.25006024, 31.08172601, 29.11059355,\n",
       "        41.65273257, 27.72723421, 39.9335702 , 30.25015375, 27.6879826 ,\n",
       "        38.00914714, 32.12826965, 45.0807139 , 53.1239474 , 29.67088216,\n",
       "        36.48340954, 33.98038149, 29.84181284, 49.05053594, 25.94188528,\n",
       "        35.3721409 , 54.40259345, 34.03994993, 33.54363553, 36.82132088,\n",
       "        57.61248275, 41.35271305, 57.48255222, 29.29158012],\n",
       "       [25.68254472, 33.25006024,  0.        , 37.78285351, 34.24918287,\n",
       "        52.79298032, 27.75819149, 52.22454304, 19.44239056, 32.95299745,\n",
       "        46.53804214, 39.97990894, 62.49482251, 68.39355857, 27.22517365,\n",
       "        53.65402655, 44.77784222, 28.51445083, 67.02209798, 27.98819748,\n",
       "        47.37544495, 69.78343308, 44.76685892, 42.33558185, 49.61609043,\n",
       "        74.17662603, 54.90059012, 74.1271213 , 27.03334007],\n",
       "       [45.35793312, 31.08172601, 37.78285351,  0.        , 20.10422808,\n",
       "        40.21446438, 29.13032439, 34.29079012, 34.06386677, 31.27575264,\n",
       "        31.16486172, 30.53896797, 46.3684327 , 44.914838  , 32.7640165 ,\n",
       "        35.28370424, 32.7646414 , 30.15791853, 54.42103455, 27.30996257,\n",
       "        32.18959961, 52.34454179, 32.74934965, 31.92850142, 35.44689159,\n",
       "        51.65141208, 38.00006892, 52.25951718, 28.4734943 ],\n",
       "       [44.11208309, 29.11059355, 34.24918287, 20.10422808,  0.        ,\n",
       "        36.87074562, 26.75999109, 35.0096224 , 28.95895619, 28.31358   ,\n",
       "        28.19086731, 30.73694702, 47.13956475, 46.42256346, 28.77131514,\n",
       "        35.47173618, 30.28005813, 28.009751  , 56.85558874, 28.25310417,\n",
       "        32.15330467, 52.61116722, 30.14760242, 28.93461482, 37.44154616,\n",
       "        53.37466225, 36.61748937, 56.4886339 , 27.13665856],\n",
       "       [65.53252145, 41.65273257, 52.79298032, 40.21446438, 36.87074562,\n",
       "         0.        , 40.99499251, 41.18839177, 50.01618801, 41.97584083,\n",
       "        31.98456369, 36.21942292, 41.99183701, 42.20901486, 41.33964242,\n",
       "        36.28214941, 34.1973352 , 43.47032947, 56.1756405 , 46.24026262,\n",
       "        36.7858313 , 47.11576652, 34.14904047, 35.7775095 , 41.34004284,\n",
       "        46.40464054, 36.10548846, 51.48268877, 44.98654641],\n",
       "       [36.4454019 , 27.72723421, 27.75819149, 29.13032439, 26.75999109,\n",
       "        40.99499251,  0.        , 43.86129539, 23.9162246 , 28.49523783,\n",
       "        35.28199292, 32.08718647, 53.01251043, 55.69138465, 24.96871956,\n",
       "        41.6754496 , 35.50487455, 26.43405055, 58.11174058, 25.37228361,\n",
       "        38.87217974, 60.52307471, 35.2983622 , 32.71877495, 42.06771638,\n",
       "        62.91522145, 42.80578708, 63.74885955, 21.80903805],\n",
       "       [63.44267586, 39.9335702 , 52.22454304, 34.29079012, 35.0096224 ,\n",
       "        41.18839177, 43.86129539,  0.        , 49.11177222, 40.64799227,\n",
       "        34.73345503, 37.26500095, 33.04754278, 39.33197338, 44.82930643,\n",
       "        33.21771783, 34.93462767, 40.6738499 , 46.24987446, 43.22363606,\n",
       "        31.90411652, 49.36918989, 34.77868398, 31.98444524, 31.05189401,\n",
       "        41.27547946, 37.94340153, 47.29590513, 44.12743082],\n",
       "       [24.38986124, 30.25015375, 19.44239056, 34.06386677, 28.95895619,\n",
       "        50.01618801, 23.9162246 , 49.11177222,  0.        , 30.43880501,\n",
       "        43.22645838, 38.62097933, 61.18936264, 65.93519297, 25.62470832,\n",
       "        50.29554959, 42.20283725, 22.46946617, 66.17682468, 25.08889653,\n",
       "        45.72540691, 68.62413802, 42.12556516, 38.71813674, 48.30461284,\n",
       "        72.20401603, 52.65405407, 73.36403122, 23.90435278],\n",
       "       [43.54195464, 27.6879826 , 32.95299745, 31.27575264, 28.31358   ,\n",
       "        41.97584083, 28.49523783, 40.64799227, 30.43880501,  0.        ,\n",
       "        30.78455068, 25.73431014, 44.99617509, 51.31707676, 30.15189083,\n",
       "        37.16904176, 31.45078133, 30.44825826, 55.22862843, 24.54077967,\n",
       "        34.90964735, 52.0698548 , 31.33494429, 29.87019184, 33.34640339,\n",
       "        56.35909264, 37.22103055, 57.75531202, 29.86594665],\n",
       "       [59.05271877, 38.00914714, 46.53804214, 31.16486172, 28.19086731,\n",
       "        31.98456369, 35.28199292, 34.73345503, 43.22645838, 30.78455068,\n",
       "         0.        , 25.39200662, 39.13929942, 39.81295679, 35.85820108,\n",
       "        32.62228341, 26.41314841, 37.3039349 , 57.28474135, 37.36235939,\n",
       "        30.48778907, 43.56717879, 26.32809265, 27.26161556, 32.27447404,\n",
       "        46.38055788, 32.55079877, 49.51753061, 36.84845798],\n",
       "       [53.18048669, 32.12826965, 39.97990894, 30.53896797, 30.73694702,\n",
       "        36.21942292, 32.08718647, 37.26500095, 38.62097933, 25.73431014,\n",
       "        25.39200662,  0.        , 39.2061798 , 44.65721463, 32.37816861,\n",
       "        35.07029149, 27.95884807, 33.84497958, 52.4980745 , 32.24777107,\n",
       "        31.31426659, 45.30070357, 28.02264874, 28.40309233, 30.38153335,\n",
       "        49.61083409, 33.31362798, 51.29867654, 33.29656807],\n",
       "       [76.10454971, 45.0807139 , 62.49482251, 46.3684327 , 47.13956475,\n",
       "        41.99183701, 53.01251043, 33.04754278, 61.18936264, 44.99617509,\n",
       "        39.13929942, 39.2061798 ,  0.        , 36.5688989 , 52.89707579,\n",
       "        32.73414619, 36.31421187, 52.57920937, 42.55208965, 51.54414344,\n",
       "        35.69625898, 37.61566009, 36.26560319, 37.1151056 , 30.80246067,\n",
       "        33.27714109, 33.71272855, 40.22091719, 55.69647694],\n",
       "       [80.85531401, 53.1239474 , 68.39355857, 44.914838  , 46.42256346,\n",
       "        42.20901486, 55.69138465, 39.33197338, 65.93519297, 51.31707676,\n",
       "        39.81295679, 44.65721463, 36.5688989 ,  0.        , 58.35611437,\n",
       "        32.72141408, 38.02596969, 57.23535878, 49.3669064 , 57.31341585,\n",
       "        38.78056526, 38.2517299 , 38.05282761, 41.14079845, 39.35816927,\n",
       "        30.16075678, 31.27915161, 40.3358212 , 58.59663845],\n",
       "       [37.39337167, 29.67088216, 27.22517365, 32.7640165 , 28.77131514,\n",
       "        41.33964242, 24.96871956, 44.82930643, 25.62470832, 30.15189083,\n",
       "        35.85820108, 32.37816861, 52.89707579, 58.35611437,  0.        ,\n",
       "        45.46297205, 35.87446153, 27.59010905, 61.46190981, 28.67344401,\n",
       "        40.50194453, 60.01508731, 35.85548639, 34.00160718, 39.89815814,\n",
       "        63.5030817 , 45.61121634, 64.58399475, 26.459522  ],\n",
       "       [65.55039083, 36.48340954, 53.65402655, 35.28370424, 35.47173618,\n",
       "        36.28214941, 41.6754496 , 33.21771783, 50.29554959, 37.16904176,\n",
       "        32.62228341, 35.07029149, 32.73414619, 32.72141408, 45.46297205,\n",
       "         0.        , 31.02401013, 41.79019125, 46.39423161, 42.59377957,\n",
       "        29.59257047, 41.01963412, 30.73761924, 32.32515371, 33.05779508,\n",
       "        38.61087163, 28.83605594, 43.15314079, 44.27118839],\n",
       "       [58.25738642, 33.98038149, 44.77784222, 32.7646414 , 30.28005813,\n",
       "        34.1973352 , 35.50487455, 34.93462767, 42.20283725, 31.45078133,\n",
       "        26.41314841, 27.95884807, 36.31421187, 38.02596969, 35.87446153,\n",
       "        31.02401013,  0.        , 37.35114899, 51.96341397, 37.9774756 ,\n",
       "        30.87968357, 41.08060465,  1.83667144, 27.75841303, 31.21615221,\n",
       "        43.16026168, 29.09456225, 47.89933651, 38.93200105],\n",
       "       [35.56568183, 29.84181284, 28.51445083, 30.15791853, 28.009751  ,\n",
       "        43.47032947, 26.43405055, 40.6738499 , 22.46946617, 30.44825826,\n",
       "        37.3039349 , 33.84497958, 52.57920937, 57.23535878, 27.59010905,\n",
       "        41.79019125, 37.35114899,  0.        , 58.61595279, 24.78566677,\n",
       "        38.04550244, 62.51349592, 37.26275191, 33.55248474, 41.5929926 ,\n",
       "        62.06443856, 46.73765134, 64.97969959, 23.75930262],\n",
       "       [76.57052055, 49.05053594, 67.02209798, 54.42103455, 56.85558874,\n",
       "        56.1756405 , 58.11174058, 46.24987446, 66.17682468, 55.22862843,\n",
       "        57.28474135, 52.4980745 , 42.55208965, 49.3669064 , 61.46190981,\n",
       "        46.39423161, 51.96341397, 58.61595279,  0.        , 57.6679023 ,\n",
       "        46.41595236, 55.68454947, 52.04195188, 50.11158383, 47.23706574,\n",
       "        50.66834743, 49.88972934, 50.86270236, 60.12813278],\n",
       "       [34.37801308, 25.94188528, 27.98819748, 27.30996257, 28.25310417,\n",
       "        46.24026262, 25.37228361, 43.22363606, 25.08889653, 24.54077967,\n",
       "        37.36235939, 32.24777107, 51.54414344, 57.31341585, 28.67344401,\n",
       "        42.59377957, 37.9774756 , 24.78566677, 57.6679023 ,  0.        ,\n",
       "        38.71898602, 59.75363518, 37.96725862, 35.87091929, 38.91319933,\n",
       "        63.10405169, 45.93550229, 61.9406138 , 24.92790577],\n",
       "       [60.47463136, 35.3721409 , 47.37544495, 32.18959961, 32.15330467,\n",
       "        36.7858313 , 38.87217974, 31.90411652, 45.72540691, 34.90964735,\n",
       "        30.48778907, 31.31426659, 35.69625898, 38.78056526, 40.50194453,\n",
       "        29.59257047, 30.87968357, 38.04550244, 46.41595236, 38.71898602,\n",
       "         0.        , 41.9938028 , 30.45705139, 30.80482079, 31.41861842,\n",
       "        40.98544138, 33.47218831, 41.22836343, 40.15317876],\n",
       "       [84.65393363, 54.40259345, 69.78343308, 52.34454179, 52.61116722,\n",
       "        47.11576652, 60.52307471, 49.36918989, 68.62413802, 52.0698548 ,\n",
       "        43.56717879, 45.30070357, 37.61566009, 38.2517299 , 60.01508731,\n",
       "        41.01963412, 41.08060465, 62.51349592, 55.68454947, 59.75363518,\n",
       "        41.9938028 ,  0.        , 41.02368963, 44.71688638, 42.98215254,\n",
       "        38.3843175 , 35.86504101, 39.07833718, 64.60776809],\n",
       "       [58.23622205, 34.03994993, 44.76685892, 32.74934965, 30.14760242,\n",
       "        34.14904047, 35.2983622 , 34.77868398, 42.12556516, 31.33494429,\n",
       "        26.32809265, 28.02264874, 36.26560319, 38.05282761, 35.85548639,\n",
       "        30.73761924,  1.83667144, 37.26275191, 52.04195188, 37.96725862,\n",
       "        30.45705139, 41.02368963,  0.        , 27.66495918, 31.1961335 ,\n",
       "        43.0269745 , 28.81034172, 47.7751725 , 38.77448227],\n",
       "       [55.7064247 , 33.54363553, 42.33558185, 31.92850142, 28.93461482,\n",
       "        35.7775095 , 32.71877495, 31.98444524, 38.71813674, 29.87019184,\n",
       "        27.26161556, 28.40309233, 37.1151056 , 41.14079845, 34.00160718,\n",
       "        32.32515371, 27.75841303, 33.55248474, 50.11158383, 35.87091929,\n",
       "        30.80482079, 44.71688638, 27.66495918,  0.        , 31.61167214,\n",
       "        47.81900179, 30.3793016 , 50.4304915 , 36.7158207 ],\n",
       "       [61.86866693, 36.82132088, 49.61609043, 35.44689159, 37.44154616,\n",
       "        41.34004284, 42.06771638, 31.05189401, 48.30461284, 33.34640339,\n",
       "        32.27447404, 30.38153335, 30.80246067, 39.35816927, 39.89815814,\n",
       "        33.05779508, 31.21615221, 41.5929926 , 47.23706574, 38.91319933,\n",
       "        31.41861842, 42.98215254, 31.1961335 , 31.61167214,  0.        ,\n",
       "        40.73613038, 33.42917291, 44.38817977, 43.44069392],\n",
       "       [86.91866936, 57.61248275, 74.17662603, 51.65141208, 53.37466225,\n",
       "        46.40464054, 62.91522145, 41.27547946, 72.20401603, 56.35909264,\n",
       "        46.38055788, 49.61083409, 33.27714109, 30.16075678, 63.5030817 ,\n",
       "        38.61087163, 43.16026168, 62.06443856, 50.66834743, 63.10405169,\n",
       "        40.98544138, 38.3843175 , 43.0269745 , 47.81900179, 40.73613038,\n",
       "         0.        , 39.18072019, 37.04335274, 65.51847448],\n",
       "       [68.59641076, 41.35271305, 54.90059012, 38.00006892, 36.61748937,\n",
       "        36.10548846, 42.80578708, 37.94340153, 52.65405407, 37.22103055,\n",
       "        32.55079877, 33.31362798, 33.71272855, 31.27915161, 45.61121634,\n",
       "        28.83605594, 29.09456225, 46.73765134, 49.88972934, 45.93550229,\n",
       "        33.47218831, 35.86504101, 28.81034172, 30.3793016 , 33.42917291,\n",
       "        39.18072019,  0.        , 46.28632218, 47.4870036 ],\n",
       "       [86.02410835, 57.48255222, 74.1271213 , 52.25951718, 56.4886339 ,\n",
       "        51.48268877, 63.74885955, 47.29590513, 73.36403122, 57.75531202,\n",
       "        49.51753061, 51.29867654, 40.22091719, 40.3358212 , 64.58399475,\n",
       "        43.15314079, 47.89933651, 64.97969959, 50.86270236, 61.9406138 ,\n",
       "        41.22836343, 39.07833718, 47.7751725 , 50.4304915 , 44.38817977,\n",
       "        37.04335274, 46.28632218,  0.        , 65.08197679],\n",
       "       [32.18125789, 29.29158012, 27.03334007, 28.4734943 , 27.13665856,\n",
       "        44.98654641, 21.80903805, 44.12743082, 23.90435278, 29.86594665,\n",
       "        36.84845798, 33.29656807, 55.69647694, 58.59663845, 26.459522  ,\n",
       "        44.27118839, 38.93200105, 23.75930262, 60.12813278, 24.92790577,\n",
       "        40.15317876, 64.60776809, 38.77448227, 36.7158207 , 43.44069392,\n",
       "        65.51847448, 47.4870036 , 65.08197679,  0.        ]])"
      ]
     },
     "execution_count": 103,
     "metadata": {},
     "output_type": "execute_result"
    }
   ],
   "source": [
    "dist"
   ]
  },
  {
   "cell_type": "code",
   "execution_count": 104,
   "metadata": {},
   "outputs": [],
   "source": [
    "out = open('dist.txt', 'w')\n",
    "for i in range(dist.shape[0]):\n",
    "    for j in range(dist.shape[1]):\n",
    "        out.write(str(dist[i, j]).ljust(20) + ' ')\n",
    "    out.write('\\n')\n",
    "out.close()"
   ]
  },
  {
   "cell_type": "code",
   "execution_count": 105,
   "metadata": {},
   "outputs": [
    {
     "data": {
      "image/png": "[encoded data removed]",
      "text/plain": [
       "<Figure size 432x288 with 1 Axes>"
      ]
     },
     "metadata": {
      "needs_background": "light"
     },
     "output_type": "display_data"
    }
   ],
   "source": [
    "import matplotlib.pyplot as plt\n",
    "\n",
    "plt.plot(centroids[:,2], centroids[:,3], 'o')\n",
    "plt.show()"
   ]
  },
  {
   "cell_type": "code",
   "execution_count": 109,
   "metadata": {},
   "outputs": [],
   "source": [
    "from sklearn.mixture import GaussianMixture\n",
    "gmm = GaussianMixture(n_components=5).fit(centroids)\n",
    "labels = gmm.predict(centroids)"
   ]
  },
  {
   "cell_type": "code",
   "execution_count": 110,
   "metadata": {},
   "outputs": [
    {
     "name": "stdout",
     "output_type": "stream",
     "text": [
      "1991     It's the Little Things                             0\n",
      "2001     Where I Belong                                     0\n",
      "2004     Home                                               0\n",
      "2008     Shine For Singapore                                0\n",
      "2011     In A Heartbeat                                     0\n",
      "2012     Love At First Light                                0\n",
      "1962     Singapura, Sunny Island                            1\n",
      "1967     Singapore Town                                     1\n",
      "1969     Five Stars Arising                                 1\n",
      "1984     Stand Up for Singapore                             1\n",
      "1986     Count On Me Singapore                              1\n",
      "1990     One People, One Nation, One Singapore              1\n",
      "1997     Future In My Dreams                                1\n",
      "1999     Moments of Magic                                   1\n",
      "2003     One United People                                  1\n",
      "2006     My Island Home                                     1\n",
      "2007-2   Will You                                           1\n",
      "2017     Because It's Singapore                             1\n",
      "2002     We Will Get There                                  2\n",
      "2009     What Do You See?                                   2\n",
      "2013     One Singapore                                      2\n",
      "2016     Tomorrow's Here Today                              2\n",
      "1987     We Are Singapore                                   3\n",
      "1999-2   Together                                           3\n",
      "2000     Shine On Me                                        3\n",
      "2005     Reach Out For The Skies                            3\n",
      "2010     Song for Singapore                                 3\n",
      "2015     Our Singapore                                      3\n",
      "2007     There's No Place I'd Rather Be                     4\n"
     ]
    }
   ],
   "source": [
    "for s, l in sorted(zip(song_years, labels), key = lambda x: x[1]):\n",
    "    print(s.ljust(8), song_names[s].ljust(50),l)"
   ]
  },
  {
   "cell_type": "code",
   "execution_count": 79,
   "metadata": {},
   "outputs": [
    {
     "name": "stderr",
     "output_type": "stream",
     "text": [
      "/home/ashiswin/Documents/National-Day-Song-Analysis/.env/lib/python3.7/site-packages/joblib/_multiprocessing_helpers.py:38: UserWarning: [Errno 12] Cannot allocate memory.  joblib will operate in serial mode\n",
      "  warnings.warn('%s.  joblib will operate in serial mode' % (e,))\n"
     ]
    },
    {
     "data": {
      "text/plain": [
       "['gmm-5cluster-best.joblib']"
      ]
     },
     "execution_count": 79,
     "metadata": {},
     "output_type": "execute_result"
    }
   ],
   "source": [
    "from joblib import dump, load\n",
    "#dump(gmm, 'gmm-5cluster-best.joblib')"
   ]
  },
  {
   "cell_type": "code",
   "execution_count": 98,
   "metadata": {},
   "outputs": [
    {
     "data": {
      "text/plain": [
       "array([1, 3, 0, 3, 3, 0, 3, 3, 0, 0, 0, 0, 3, 3, 0, 3, 0, 3, 2, 3, 3, 0,\n",
       "       0, 0, 0, 3, 0, 3, 3], dtype=int32)"
      ]
     },
     "execution_count": 98,
     "metadata": {},
     "output_type": "execute_result"
    }
   ],
   "source": [
    "from sklearn.cluster import KMeans\n",
    "kmeans = KMeans(n_clusters=4).fit(centroids)\n",
    "kmeans.labels_"
   ]
  },
  {
   "cell_type": "code",
   "execution_count": 99,
   "metadata": {},
   "outputs": [
    {
     "name": "stdout",
     "output_type": "stream",
     "text": [
      "1969     Five Stars Arising                                 0\n",
      "1987     We Are Singapore                                   0\n",
      "1997     Future In My Dreams                                0\n",
      "1999     Moments of Magic                                   0\n",
      "1999-2   Together                                           0\n",
      "2000     Shine On Me                                        0\n",
      "2003     One United People                                  0\n",
      "2005     Reach Out For The Skies                            0\n",
      "2009     What Do You See?                                   0\n",
      "2010     Song for Singapore                                 0\n",
      "2011     In A Heartbeat                                     0\n",
      "2012     Love At First Light                                0\n",
      "2015     Our Singapore                                      0\n",
      "1962     Singapura, Sunny Island                            1\n",
      "2007     There's No Place I'd Rather Be                     2\n",
      "1967     Singapore Town                                     3\n",
      "1984     Stand Up for Singapore                             3\n",
      "1986     Count On Me Singapore                              3\n",
      "1990     One People, One Nation, One Singapore              3\n",
      "1991     It's the Little Things                             3\n",
      "2001     Where I Belong                                     3\n",
      "2002     We Will Get There                                  3\n",
      "2004     Home                                               3\n",
      "2006     My Island Home                                     3\n",
      "2007-2   Will You                                           3\n",
      "2008     Shine For Singapore                                3\n",
      "2013     One Singapore                                      3\n",
      "2016     Tomorrow's Here Today                              3\n",
      "2017     Because It's Singapore                             3\n"
     ]
    }
   ],
   "source": [
    "for s, l in sorted(zip(song_years, kmeans.labels_), key = lambda x: x[1]):\n",
    "    print(s.ljust(8), song_names[s].ljust(50),l)"
   ]
  },
  {
   "cell_type": "code",
   "execution_count": null,
   "metadata": {},
   "outputs": [],
   "source": []
  }
 ],
 "metadata": {
  "kernelspec": {
   "display_name": "Python 3",
   "language": "python",
   "name": "python3"
  },
  "language_info": {
   "codemirror_mode": {
    "name": "ipython",
    "version": 3
   },
   "file_extension": ".py",
   "mimetype": "text/x-python",
   "name": "python",
   "nbconvert_exporter": "python",
   "pygments_lexer": "ipython3",
   "version": "3.7.3"
  }
 },
 "nbformat": 4,
 "nbformat_minor": 2
}
