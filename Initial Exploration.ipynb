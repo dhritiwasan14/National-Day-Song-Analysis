{
 "cells": [
  {
   "cell_type": "code",
   "execution_count": 1,
   "metadata": {},
   "outputs": [],
   "source": [
    "import gensim\n",
    "\n",
    "# Load Google's pre-trained Word2Vec model.\n",
    "model = gensim.models.KeyedVectors.load_word2vec_format('GoogleNews-vectors-negative300.bin', binary=True)  "
   ]
  },
  {
   "cell_type": "code",
   "execution_count": 2,
   "metadata": {},
   "outputs": [
    {
     "name": "stdout",
     "output_type": "stream",
     "text": [
      "defaultdict(<class 'set'>, {'1969': {'our', 'we', 'lamp', 'white', 'blood', 'stormy', 'free', 'guide', 'be', 'There', 'pure', 'are', 'tranquil', 'as', 'see', 'new', 'bright', 'all', 'out', 'happy', 'stars', 'yet', 'the', \"There's\", 'Crimson', 'love', 'truth', 'Reach', 'Youthful', 'for', 'Each', 'is', 'moon', 'proud', 'bearing', 'can', 'five', 'flag', 'sea'}, '1987': {'my', 'harmony', 'our', 'time', 'so', 'roar', 'friends', 'we', 'For', 'Prosperity', 'said', 'All', 'We', 'seemed', 'strong', 'justice', 'on', 'free', 'was', 'reaching', \"it's\", 'ourselves', 'This', 'people', 'Singapore', 'but', 'marching', 'Based', \"We're\", 'forevermore', 'destiny', 'peace', 'achieve', 'stand', 'There', 'troubles', 'that', 'are', 'when', 'come', 'this', 'built', 'as', 'That', 'Singaporeans', 'society', 'happiness', 'much', 'united', 'out', 'here', 'belong', 'build', 'citizens', 'democratic', 'lion', 'us', 'nation', 'did', 'the', 'Regardless', 'equality', 'language', 'one', 'Pledge', \"We've\", 'common', 'So', 'is', 'for', 'or', 'will', 'progress', 'make', 'life', 'hear', 'together', \"won't\", 'too', 'religion', 'To', 'far', 'these', 'flag'}, '2016': {'our', 'weather', 'on', 'This', 'dreams', 'into', 'are', 'Looking', 'head', 'it', 'standing', 'by', 'With', 'fall', 'all', 'raise', 'Till', 'stars', 'in', 'along', 'own', 'can', 'make', 'together', 'Cause', 'begin', 'how', \"you're\", 'eyes', \"can't\", 'tall', 'today', \"it's\", 'When', 'just', 'hearts', 'see', 'Feel', 'deep', 'you', 'You', 'up', 'sing', 'go', 'run', 'calling', 'drum', 'higher', 'light', 'will', 'fly', 'where', 'No', 'brand', 'stop', 'Step', 'sky', 'who', 'day', 'flag', 'want', 'what', 'world', 'leap', 'Time', 'right', 'Come', \"we're\", 'any', 'be', 'that', 'plain', 'And', 'skies', 'beyond', 'Dream', 'the', 'alone', 'Home', \"tomorrow's\", 'Yeah', 'may', 'know', \"let's\", 'we', 'bang', 'not', 'Make', 'beat', 'hand', 'Be', 'away', 'Walking', 'within', 'way', 'come', 'new', 'song', 'yearning', 'Take', 'name', 'has', 'here', 'out', 'wishes', 'fire', 'is', 'Echoing', 'Fly', 'Raise', 'your', 'See'}, '1991': {'our', 'my', 'know', 'inside', 'place', 'we', 'me', 'warm', 'safe', 'care', 'grown', \"You're\", 'no', \"It's\", 'part', \"I'll\", 'always', 'destiny', 'things', \"children's\", 'be', 'air', 'way', 'give', 'that', 'Over', 'laughter', 'matter', 'days', 'it', 'deep', 'you', 'You', 'warms', 'all', 'And', \"You've\", 'here', 'others', 'happy', 'share', 'like', 'good', 'feel', 'the', 'brighter', 'one', 'love', 'in', 'ways', 'how', 'down', 'little', 'for', 'opened', 'heart', 'No', 'where', 'accustomed', 'make', 'life', 'The', 'may', 'My', 'Cause', 'call', \"that's\", 'Home', \"I've\", 'joy', 'beautiful', 'your', 'cared', \"you're\", 'cares', 'I', 'hope'}, '2017': {'our', 'harmony', 'know', 'we', 'Living', 'world', 'Where', 'Life', 'We', \"It's\", 'storms', 'hand', \"it's\", \"we'll\", 'Be', 'Singapore', 'dreams', 'stay', 'that', 'step', 'Nothing', 'as', 'see', 'this', 'Everyone', 'are', 'by', 'build', 'back', 'land', 'Because', 'island', 'Together', 'the', 'one', 'love', 'in', 'brave', 'compares', 'home', 'Heart', 'undivided', 'Singaporean', 'is', 'will', 'Can', 'heart', 'where', 'friend', 'The', 'call', 'Step', 'Hand', 'To', 'Back', 'grow'}, '2007': {'sail', 'on', 'why', 'part', 'This', 'neon', \"there's\", 'even', 'End', 'old', 'Eiffel', 'walked', 'Great', 'braved', \"There's\", 'one', 'in', 'Broadway', 'signs', 'cross', 'The', 'Cause', 'family', 'I', 'Kwai', 'Wall', 'friends', 'danced', 'think', \"it's\", 'seas', \"I'll\", 'always', 'San', 'see', 'you', 'up', 'long', 'plays', 'sunsets', 'LA', 'loved', 'Discovered', 'Seen', 'where', \"that's\", \"I've\", 'day', 'okay', 'river', 'my', 'miss', 'rather', 'place', 'Cairo', 'world', 'seen', 'catch', \"It's\", 'grew', 'hour', 'rain', 'night', 'But', 'be', 'Yet', 'wanna', 'when', 'UK', 'And', 'skies', 'the', 'streets', 'So', 'with', 'Big', 'queued', 'nights', 'To', 'West', 'know', 'sweet', 'Bombay', 'climbed', 'me', \"I'd\", 'oh', 'no', 'each', 'still', 'away', \"You'll\", 'crossed', 'Taipei', 'Experienced', 'London', 'roamed', 'thought', 'every', 'sour', 'home', 'is', 'Francisco', \"don't\"}, '1997': {'my', 'our', 'freedom', 'flying', 'we', 'We', \"it's\", 'beauty', 'dreams', 'Every', 'true', 'be', 'across', 'In', 'are', 'wish', 'see', 'come', 'it', 'reach', 'land', 'free!', 'future', 'the', \"There's\", 'birds', 'one', 'in', 'light', 'will', 'heart', 'Yes!', 'day', 'I', 'hope'}, '2009': {'our', 'sail', 'What', 'carried', 'upon', 'set', 'on', 'reaching', 'dreams', 'into', 'around', 'are', 'wind', 'it', 'That', 'With', 'seven', 'more', 'million', 'Together', \"There's\", 'in', 'imagine', 'have', 'or', 'jewel', 'can', 'The', 'together', 'family', 'how', 'book', 'believe', 'shine', 'do', 'strength', 'climb', 'gem', 'seas', 'bring', 'dream', 'stand', 'makes', 'hearts', 'see', 'you', 'mountain', 'limit', 'up', 'minds', 'long', 'future', 'As', 'Look', 'tomorrow', 'will', 'life', 'sky', 'what', 'time', 'Where', 'We', 'Now', 'achieve', 'that', 'when', 'sun', 'could', 'skys', 'afraid', 'nothings', 'open', 'take', 'Youll', 'the', 'Cos', 'at', 'gonna', 'sights', 'youre', 'To', 'far', 'look', 'they', 'an', 'may', 'we', 'not', 'A', 'courage', 'brightly', 'destiny', 'way', 'only', 'highest', 'as', 'come', 'this', 'thoughts', 'has', 'reach', 'land', 'share', 'hopes', 'top', 'is', 'moon', 'your', 'See', 'sea'}, '2010': {'our', 'my', 'time', 'do', 'tall', 'friends', 'we', 'me', 'For', 'seems', 'We', 'strong', 'on', 'free', 'was', 'Now', \"It's\", 'high', \"we'll\", 'I', 'Our', 'wings', 'When', 'hand', 'dreams', 'destiny', 'But', 'kept', 'be', \"Let's\", 'achieve', 'within', 'hearts', 'when', 'come', 'soar', 'best', 'it', 'standing', 'With', 'think', 'all', 'reach', 'here', 'out', 'skies', 'up', \"We'll\", 'has', 'touch', 'hopes', 'future', 'the', 'about', 'unsure', 'As', 'spirit', 'one', 'in', 'Building', \"We've\", 'low', 'for', 'through', 'journey', 'proud', 'can', 'make', 'At', 'The', 'To', 'family', 'flame', 'alive', 'strive', 'want', 'hope'}, '2015': {'our', 'now', 'gather', 'on', 'Singapore', 'around', 'treasure', 'it', 'by', 'won', 'all', 'if', 'us', 'one', 'years', 'down', 'have', 'something', 'The', 'done', 'together', 'shine', 'seems', 'many', 'building', 'dream', 'challenge', 'road', \"we've\", 'see', 'built', 'It', 'hold', 'you', 'up', 'gone', 'go', 'love', 'easy', 'tomorrow', \"We've\", 'will', 'started', 'moved', 'where', 'rocky', 'grow', 'world', 'Through', 'right', 'dreaming', 'But', 'be', 'nothing', 'when', 'could', 'carry', 'best', 'And', 'the', 'nation', 'ahead', 'So', 'with', 'conviction', 'To', 'far', 'look', 'we', 'me', 'A', 'Especially', 'courage', 'high', 'Our', \"isn't\", 'only', 'amazing', 'as', 'come', 'new', 'out', 'land', 'yet', 'brave', 'home', 'is', 'heart', 'core', 'towards'}, '2011': {'my', 'our', 'time', 'freedom', 'do', 'place', 'we', 'Living', 'me', 'today', 'We', 'strong', 'no', 'beat', \"it's\", 'This', 'part', \"I'll\", 'always', 'way', 'dream', 'beginning', 'under', 'passed', 'spirits', 'be', 'renew', 'In', 'stand', 'moment', 'step', 'hearts', 'sun', 'as', 'new', 'this', 'Nothing', 'it', 'you', 'by', 'starting', 'has', 'reach', 'land', 'else', 'us', 'the', 'calling', 'play', 'one', 'at', 'in', 'found', 'have', 'light', 'for', 'is', 'heartbeat', 'home', 'will', 'heart', 'can', 'where', 'start', 'beats', 'life', 'role', 'there', 'sky', 'country', 'family', 'flame', 'alive', 'I', 'hope'}, '1990': {'our', 'time', 'now', 'place', 'we', 'world', 'rest', 'vigilance', \"it's\", 'hand', 'people', 'Singapore', 'Our', \"we're\", 'forevermore', 'never', 'Every', 'test', 'just', \"Let's\", 'be', 'way', 'stand', 'that', 'Strangers', 'when', 'built', 'hands', 'show', 'And', 'out', 'reach', 'has', \"We'll\", 'join', 'dozen', 'nation', 'the', 'one', \"That's\", 'in', 'One', 'every', 'comes', \"We've\", 'for', 'Singaporean', 'will', 'with', 'first', 'role', 'where', 'The', 'from', 'lands', 'toil', 'creed'}, '1962': {'our', 'join', 'island', 'the', 'Pretty', 'bloom', 'flowers', 'oh', 'in', 'Blend', 'Come', 'song', 'Join', 'you', 'along', 'sets', 'for', 'merry', 'Sunny'}, '1984': {'our', 'do', 'Let', 'find', 'care', 'right', 'Join', 'part', 'Be', 'Singapore', 'worthwhile', 'never', \"You'll\", 'stand', 'give', \"we've\", 'If', 'man', 'come', 'best', \"you've\", 'it', 'show', 'you', 'Believe', 'determination', 'fellow', 'more', 'all', 'out', \"You've\", 'up', 'share', 'us', 'the', 'Stand', 'nation', 'Together', 'play', 'in', 'Reach', 'little', 'for', 'So', 'home', 'something', 'really', 'can', 'heart', 'with', 'make', 'from', 'got', 'Recognise', 'prepared', 'smile', 'done', 'before', 'your', 'like'}, '2001': {'safe', 'on', 'keep', 'dreams', 'around', 'true', 'big', 'In', 'am', 'it', 'That', 'by', 'precious', 'us', 'one', 'in', 'families', 'or', 'together', 'family', 'Guiding', 'I', 'side', 'walk', 'shine', \"Can't\", 'sunny', \"it's\", \"I'll\", 'always', 'kept', 'see', 'glorious', 'Friends', 'future', 'As', 'whole', 'shout', 'will', \"They're\", 'where', 'wonderful', 'Morning', 'grow', 'want', 'my', 'so', 'place', 'Where', 'world', 'memories', 'bitter', \"we're\", 'rain', 'loud', 'night', 'be', 'its', 'bright', 'And', 'island', 'the', 'Bright', 'streets', 'at', 'comes', 'for', \"day's\", 'To', 'they', 'know', 'lights', 'sweet', 'we', 'me', 'no', 'close', 'hand', 'still', 'Every', 'matter', 'as', 'come', 'this', 'soul', 'out', 'belong', 'whether', 'wait', 'closer', 'sour', 'home', 'become', 'is', 'through', 'heart', 'beautiful', 'Seeing', 'learn', 'towards'}, '2002': {'our', 'now', 'set', 'why', 'storms', \"there's\", 'ever', 'Nothing', 'If', 'Remember', 'it', 'had', 'by', 'With', 'all', 'build', 'get', 'Together', \"There's\", 'By', 'in', \"we'd\", 'overcome', 'can', 'start', 'together', 'there', 'family', \"weren't\", 'struggled', \"couldn't\", 'working', 'hope', 'I', 'side', 'Deep', \"we'll\", \"I'll\", 'just', 'stand', \"we've\", 'much', 'long', 'go', 'love', 'must', 'Look', \"We've\", 'little', 'will', 'again', 'where', 'win', 'life', 'from', 'knew', 'grow', 'my', 'so', 'world', 'care', 'We', 'stood', 'darkest', 'that', 'when', 'could', 'And', 'the', 'Believing', 'play', 'contribute', 'anything', 'sharing', 'So', 'for', 'with', 'far', 'change', 'know', 'we', 'anew', 'A', 'hand', 'Be', 'still', 'things', 'way', 'as', 'come', 'new', 'Then', 'out', 'share', 'possible', 'thought', 'after', 'Right', 'heart', 'tame', \"don't\"}, '2012': {'my', 'know', 'our', 'what', 'city', 'put', 'Your', 'friends', 'Night', 'find', 'Where', 'we', 'We', 'place', 'no', 'on', 'spring', 'lively', 'sunny', 'Sights', 'Now', 'Come', 'flight', 'When', 'meet', 'dreams', 'Day', 'closest', 'be', 'across', 'that', 'ever', 'see', 'this', 'bright', 'new', 'shared', 'Warm', 'First', 'tastes', 'binds', 'finally', 'it', 'much', 'you', 'if', 'has', 'up', 'And', 'take', 'wake', 'special', 'stars', 'here', 'us', 'the', 'feeling', 'twinkling', 'brighter', 'smiles', 'one', 'love', 'in', 'at', 'forward', 'Ready', 'So', 'light', 'stirred', 'peaceful', 'rolls', 'can', 'first', 'My', 'different', 'feels', 'Hand', 'add', 'like', 'look', 'I'}, '1967': {'Place', 'climbing', 'city', 'For', 'find', 'on', \"it's\", 'people', 'Singapore', \"there's\", 'Quay', \"you'll\", 'around', \"You'll\", 'big', 'Esplanade', 'faraway', 'Collyer', \"Let's\", 'sight', 'In', 'way', 'hearts', 'are', 'buildings', 'see', 'could', 'wide', 'You', 'other', 'you', 'all', 'And', 'bus', 'town', 'turning', 'take', 'darkness', 'Their', 'Because', 'like', 'us', 'go', 'the', 'unforgettable', 'striving', 'in', 'hundred', 'down', 'little', 'light', 'for', 'Raffles', 'trip', 'The', 'sunrise', 'sky', 'everyone', 'To', 'who', 'happiness', 'into', 'an', 'I'}, '2005': {'our', 'my', 'time', 'do', 'tall', 'friends', 'we', 'me', 'For', 'We', 'seemed', 'strong', 'on', 'free', 'was', 'Now', \"It's\", 'high', \"we'll\", 'I', 'Our', 'wings', 'When', 'hand', 'dreams', 'destiny', 'But', 'kept', 'be', \"Let's\", 'achieve', 'within', 'hearts', 'when', 'come', 'soar', 'best', 'it', 'standing', 'With', 'think', 'all', 'reach', 'here', 'out', 'skies', 'up', \"We'll\", 'has', 'touch', 'hopes', 'future', 'the', 'about', 'unsure', 'As', 'spirit', 'one', 'in', 'Building', \"We've\", 'low', 'for', 'through', 'journey', 'proud', 'can', 'make', 'At', 'The', 'To', 'family', 'flame', 'alive', 'strive', 'want', 'hope'}, '1999-2': {'our', 'harmony', 'shine', 'my', 'friends', 'Let', 'we', 'find', 'strength', 'We', 'goals', 'Through', 'no', 'on', 'New', 'remain', 'hand', \"we'll\", 'I', 'Singapore', 'always', 'into', 'destiny', 'never', 'Creating', 'World', 'achieve', 'be', 'way', 'In', 'matter', 'that', 'hearts', 'Nothing', 'ever', 'this', 'new', 'choices', 'hold', 'by', 'if', 'reach', 'out', 'share', 'special', 'us', 'go', 'the', 'mind', 'Together', 'feel', 'Stepping', 'one', 'As', 'aspire', 'in', 'ways', 'every', 'have', 'for', 'families', 'heartbeat', 'is', 'will', 'heart', 'No', 'with', 'lies', 'make', 'homeland', 'together', 'everyone', 'joy', 'strive', 'change', 'working'}, '1986': {'our', 'believe', 'what', 'do', \"can't\", 'my', 'we', 'me', 'world', 'We', 'goal', 'better', 'no', 'on', 'count', \"We're\", \"it's\", \"we'll\", 'Singapore', 'vision', 'just', 'achieve', 'stand', 'be', 'There', 'road', 'that', 'are', 'give', 'best', 'show', 'you', 'You', 'more', 'all', 'build', 'share', 'the', 'feeling', 'going', \"There's\", 'Together', 'spirit', 'in', 'down', 'told', 'have', 'for', 'is', 'something', 'can', 'heart', 'try', 'too', 'Count', 'bold', 'strive'}, '2000': {'my', 'our', 'shine', 'what', 'so', 'reality', 'friends', 'Let', 'me', 'we', 'world', 'stronger', 'strength', 'All', 'For', 'New', 'on', 'was', 'Make', 'Crescent', 'Reaching', 'than', 'always', 'dreams', 'into', 'World', 'Into', 'true', 'be', 'In', 'moment', 'Shining', 'when', 'come', 'this', 'as', 'born', 'best', 'choices', 'more', 'Stars', 'all', 'build', 'out', 'much', 'reach', 'share', 'crescent', 'us', 'the', 'young', 'hopes', 'As', 'afar', \"There's\", 'one', 'Stepping', 'home', 'lead', 'families', 'for', 'will', 'heart', 'lies', 'homeland', 'with', 'can', 'make', 'The', 'joy', 'Turning', 'shining', 'grow', 'recall', 'I'}, '2008': {'our', 'believe', 'so', 'Strive', 'inside', 'rather', 'we', 'me', 'Or', 'Your', 'begins', 'seems', 'seen', 'Deep', 'belongs', \"I'd\", 'no', 'strong', 'star', \"It's\", 'free', \"it's\", 'This', \"we'll\", 'vast', 'Singapore', 'always', \"we're\", 'dreams', 'Nowhere', 'true', 'vision', 'achieve', 'be', 'that', 'matter', 'If', 'come', 'this', 'song', 'it', 'you', 'You', 'all', 'out', 'sing', 'beyond', 'here', 'belong', 'hopes', 'the', 'As', 'one', 'One', 'every', 'However', 'Reach', 'home', 'for', 'is', 'shines', 'will', 'Have', 'dark', 'can', 'moved', 'where', 'heard', 'with', 'heart', 'sky', 'there', 'guides', 'Shine', 'far', 'your', 'visions', 'made', 'may'}, '2006': {'my', 'believe', 'Nor', 'me', 'Where', 'A', 'beauty', 'This', 'part', 'always', 'dreams', 'never', 'everything', 'peace', 'be', 'In', 'that', 'are', 'see', 'born', 'song', 'you', 'You', 'all', 'And', 'want', 'sing', 'Grace', 'she', 'land', 'island', 'future', 'forget', 'her', 'every', 'home', 'is', 'will', 'My', 'Home', 'Wherever', 'family', 'day', 'I', 'may'}, '2007-2': {'turn', 'scale', 'place', 'city', 'find', 'help', 'corner', 'on', 'Will', 'Surprises', 'each', 'dreams', 'Songs', 'Amazing', 'that', 'days', 'this', 'come', 'new', 'let', 'it', 'Delightful', 'you', 'With', 'all', 'And', 'take', 'island', 'us', 'the', 'greets', 'smiles', 'in', 'grand', 'every', 'brave', 'home', 'So', 'will', 'live', 'swim', 'make', 'write', 'from', 'stories', 'country', 'nights', 'everyone', 'To', 'seize', 'your', 'dare'}, '2004': {'know', 'river', 'my', 'our', 'Winding', 'place', 'city', 'me', 'which', 'Where', 'find', 'anew', 'For', 'Just', 'Sail', \"I'm\", \"it's\", 'Whenever', 'choose', 'This', 'people', 'Singapore', 'When', 'always', 'knowledge', 'dreams', \"we'll\", 'around', 'stay', 'tell', 'be', 'within', 'street', 'troubles', 'that', 'way', 'are', 'am', 'brings', 'as', 'this', 'There', \"we've\", 'That', \"We'll\", 'build', 'shore', 'go', 'the', 'feeling', \"There's\", 'us', 'about', 'wait', 'in', 'every', 'must', 'down', 'home', 'low', 'for', 'is', 'So', 'through', 'will', 'senses', 'where', 'flows', 'start', 'life', 'comfort', 'done', 'together', \"won't\", 'there', 'Wherever', 'too', 'before', 'Know', 'like', 'look', 'recall', 'its', 'I', 'may'}, '2003': {'our', 'harmony', 'my', 'we', 'strength', 'voices', 'We', 'strong', 'lighting', 'A', 'free', 'hand', 'people', 'Singapore', 'Our', 'rainbow', 'stand', 'its', 'are', 'as', 'sun', 'this', 'you', 'With', 'united', 'build', 'up', 'sing', 'share', 'island', 'future', 'the', 'nation', 'thousand', 'brighter', 'one', 'in', 'One', 'for', 'is', 'heartbeat', 'will', 'homeland', 'where', 'My', 'make', 'different', 'from', 'colors', 'together', 'voice', 'sky', '&', 'I'}, '1999': {'river', 'our', 'time', 'horizon', 'city', 'Let', 'we', 'friends', 'world', 'Like', 'Time', 'find', 'We', 'on', 'A', 'moments', 'celebrate', 'inspiration', 'unfold', 'This', 'awaits', 'Moments', 'always', 'dreams', 'bring', 'beginning', 'never', 'into', 'treasure', 'way', 'as', 'brings', 'this', 'new', 'let', 'magic', 'move', 'more', 'all', 'reach', 'out', 'share', 'hopes', 'us', 'go', 'feeling', 'enchanting', \"There's\", 'for', 'is', 'shines', 'will', 'where', 'brand', 'different', 'The', 'there', 'Moving', 'Tomorrow', 'day', 'like'}, '2013': {'our', 'stronger', 'on', 'seem', 'This', 'Singapore', 'dreams', 'more.', 'ever', 'are', 'it', 'That', 'by', 'all', 'Together', 'One', 'wanted', 'can', 'make', 'together', 'how', 'tiny', 'I', 'side', 'shine', 'seems', \"we'll\", 'but', 'rainbow', 'just', \"Let's\", 'dots', 'hearts', 'It', 'hold', 'you', 'spot', 'much', 'sing', 'up', 'long', 'love', 'rings', 'sure', 'will', 'life', 'stories', 'like', 'want', 'my', 'so', 'Let', 'Oh', 'Like', 'We', 'right', \"We're\", 'memories', 'everything', 'be', 'give', 'that', 'when', 'bright', 'show', 'join', 'the', 'play', 'Cos', 'sharing', 'looking', 'for', 'gonna', 'with', 'Yeah', 'look', 'may', 'know', 'we', 'For', 'not', 'Just', 'bravely', \"I'm\", 'Our', 'Light', 'as', 'come', 'this', 'shared', 'reach', 'here', 'keeps', 'Many', 'recess', 'bell', 'story', 'home', 'is', 'thing', 'got', 'call', 'Here', 'your', 'Thus'}})\n"
     ]
    },
    {
     "data": {
      "text/plain": [
       "['1962',\n",
       " '1967',\n",
       " '1969',\n",
       " '1984',\n",
       " '1986',\n",
       " '1987',\n",
       " '1990',\n",
       " '1991',\n",
       " '1997',\n",
       " '1999',\n",
       " '1999-2',\n",
       " '2000',\n",
       " '2001',\n",
       " '2002',\n",
       " '2003',\n",
       " '2004',\n",
       " '2005',\n",
       " '2006',\n",
       " '2007',\n",
       " '2007-2',\n",
       " '2008',\n",
       " '2009',\n",
       " '2010',\n",
       " '2011',\n",
       " '2012',\n",
       " '2013',\n",
       " '2015',\n",
       " '2016',\n",
       " '2017']"
      ]
     },
     "execution_count": 2,
     "metadata": {},
     "output_type": "execute_result"
    }
   ],
   "source": [
    "import os\n",
    "import collections\n",
    "\n",
    "songs = collections.defaultdict(set)\n",
    "song_names = dict()\n",
    "for f in sorted(os.listdir('songs')):\n",
    "    if f[0] == '.':\n",
    "        continue\n",
    "    \n",
    "    for i, l in enumerate(open('songs/' + f, 'r').readlines()):\n",
    "        if i == 0:\n",
    "            song_names[f.split(\".\")[0]] = l.strip()\n",
    "        # Ignore song name\n",
    "        if i < 2:\n",
    "            continue\n",
    "        \n",
    "        arr = l.strip().split(\" \")\n",
    "        \n",
    "        for a in arr:\n",
    "            if a == '':\n",
    "                continue\n",
    "            if a not in model.vocab:\n",
    "                continue\n",
    "            songs[f.split(\".\")[0]].add(a)\n",
    "\n",
    "print(songs)\n",
    "song_years = sorted(list(songs.keys()))\n",
    "song_years"
   ]
  },
  {
   "cell_type": "code",
   "execution_count": 3,
   "metadata": {},
   "outputs": [],
   "source": [
    "import numpy as np\n",
    "import copy\n",
    "\n",
    "centroids = np.zeros((len(song_years), 300))\n",
    "\n",
    "for i in range(len(song_years)):\n",
    "    l = list(songs[song_years[i]])\n",
    "    centroids[i] = copy.copy(model[l[0]])\n",
    "    \n",
    "    for w in range(1, len(l)):\n",
    "        centroids[i] += model[l[w]]\n",
    "    \n",
    "    centroids[i] /= len(l)"
   ]
  },
  {
   "cell_type": "code",
   "execution_count": 4,
   "metadata": {},
   "outputs": [],
   "source": [
    "dist = np.zeros((len(songs.keys()), len(songs.keys())))"
   ]
  },
  {
   "cell_type": "code",
   "execution_count": 5,
   "metadata": {},
   "outputs": [],
   "source": [
    "for i in range(dist.shape[0]):\n",
    "    for j in range(dist.shape[1]):\n",
    "        dist[i, j] = np.linalg.norm(centroids[i] - centroids[j])"
   ]
  },
  {
   "cell_type": "code",
   "execution_count": 6,
   "metadata": {},
   "outputs": [
    {
     "data": {
      "text/plain": [
       "array([[0.        , 0.76210682, 0.80615586, 0.77311079, 0.85615968,\n",
       "        0.85412788, 0.81661097, 0.81463097, 0.81913686, 0.77116689,\n",
       "        0.83623545, 0.80386098, 0.73586541, 0.82189191, 0.78661849,\n",
       "        0.80779135, 0.82620195, 0.84721065, 0.74535006, 0.71985116,\n",
       "        0.77473069, 0.78996276, 0.82570055, 0.82730643, 0.73669154,\n",
       "        0.76258229, 0.83679798, 0.6983311 , 0.73510364],\n",
       "       [0.76210682, 0.        , 0.53030509, 0.51034289, 0.4923526 ,\n",
       "        0.48656663, 0.43964593, 0.50076211, 0.45225913, 0.44631732,\n",
       "        0.50157783, 0.44089934, 0.35729797, 0.46270388, 0.49535204,\n",
       "        0.38946317, 0.43753545, 0.55607284, 0.41842588, 0.43023312,\n",
       "        0.43068163, 0.40391503, 0.43853906, 0.45247265, 0.43057345,\n",
       "        0.43940481, 0.4323332 , 0.41300473, 0.48517689],\n",
       "       [0.80615586, 0.53030509, 0.        , 0.62351021, 0.59520261,\n",
       "        0.55816038, 0.53809353, 0.59543631, 0.52732393, 0.52257827,\n",
       "        0.54703527, 0.48663997, 0.47002208, 0.56706566, 0.5098998 ,\n",
       "        0.55685152, 0.5076813 , 0.63881949, 0.59304551, 0.55964039,\n",
       "        0.49763255, 0.46510911, 0.50762815, 0.50461923, 0.50588143,\n",
       "        0.53727933, 0.51974118, 0.51321606, 0.58016918],\n",
       "       [0.77311079, 0.51034289, 0.62351021, 0.        , 0.33961157,\n",
       "        0.50136493, 0.48236223, 0.42923848, 0.51345063, 0.51824713,\n",
       "        0.42218773, 0.45341551, 0.43594888, 0.35707462, 0.55638552,\n",
       "        0.40957279, 0.45154444, 0.5381061 , 0.56209852, 0.45282183,\n",
       "        0.41107901, 0.42587756, 0.45139238, 0.46015976, 0.44157808,\n",
       "        0.36340736, 0.42350471, 0.36974788, 0.43667951],\n",
       "       [0.85615968, 0.4923526 , 0.59520261, 0.33961157, 0.        ,\n",
       "        0.42816732, 0.46947353, 0.42125906, 0.43417081, 0.4820643 ,\n",
       "        0.35466875, 0.45302963, 0.41826953, 0.34281709, 0.51053681,\n",
       "        0.38850298, 0.39857866, 0.53029653, 0.5841056 , 0.50240731,\n",
       "        0.39149455, 0.39140535, 0.39640864, 0.40434653, 0.45861433,\n",
       "        0.35041728, 0.37222582, 0.41427896, 0.46539476],\n",
       "       [0.85412788, 0.48656663, 0.55816038, 0.50136493, 0.42816732,\n",
       "        0.        , 0.41155721, 0.51687438, 0.45070651, 0.50662157,\n",
       "        0.39289433, 0.43369483, 0.43547568, 0.42238937, 0.45001948,\n",
       "        0.42922218, 0.41639368, 0.51135434, 0.58577359, 0.53425127,\n",
       "        0.44971759, 0.44101123, 0.4157523 , 0.43435829, 0.50122244,\n",
       "        0.42634095, 0.41405349, 0.47057223, 0.47541453],\n",
       "       [0.81661097, 0.43964593, 0.53809353, 0.48236223, 0.46947353,\n",
       "        0.41155721, 0.        , 0.52062928, 0.46183344, 0.46778786,\n",
       "        0.40825822, 0.40568978, 0.41201271, 0.41487306, 0.45635526,\n",
       "        0.4082709 , 0.41437604, 0.56123534, 0.50162678, 0.47384507,\n",
       "        0.43479928, 0.41774575, 0.41045651, 0.39695884, 0.46401496,\n",
       "        0.43924946, 0.3767467 , 0.42963723, 0.43660623],\n",
       "       [0.81463097, 0.50076211, 0.59543631, 0.42923848, 0.42125906,\n",
       "        0.51687438, 0.52062928, 0.        , 0.46813704, 0.5198684 ,\n",
       "        0.45230861, 0.48375982, 0.35139289, 0.40517603, 0.55920071,\n",
       "        0.41580265, 0.45369646, 0.47166683, 0.50560109, 0.51436627,\n",
       "        0.41175209, 0.49186946, 0.45167122, 0.41480963, 0.39675269,\n",
       "        0.36819425, 0.46242918, 0.44208143, 0.50258214],\n",
       "       [0.81913686, 0.45225913, 0.52732393, 0.51345063, 0.43417081,\n",
       "        0.45070651, 0.46183344, 0.46813704, 0.        , 0.44412483,\n",
       "        0.41920239, 0.43680435, 0.38761698, 0.45817345, 0.47069596,\n",
       "        0.42500415, 0.40259368, 0.46959439, 0.56261251, 0.49298056,\n",
       "        0.41594099, 0.38637954, 0.40000082, 0.36557952, 0.43663609,\n",
       "        0.4234039 , 0.42387014, 0.46012425, 0.50135836],\n",
       "       [0.77116689, 0.44631732, 0.52257827, 0.51824713, 0.4820643 ,\n",
       "        0.50662157, 0.46778786, 0.5198684 , 0.44412483, 0.        ,\n",
       "        0.39591131, 0.35839204, 0.37368121, 0.44606977, 0.51117159,\n",
       "        0.41471694, 0.40960983, 0.56238409, 0.54363569, 0.40736342,\n",
       "        0.43429856, 0.37874598, 0.40780563, 0.40824098, 0.38206486,\n",
       "        0.42716985, 0.37830292, 0.43819327, 0.48659282],\n",
       "       [0.83623545, 0.50157783, 0.54703527, 0.42218773, 0.35466875,\n",
       "        0.39289433, 0.40825822, 0.45230861, 0.41920239, 0.39591131,\n",
       "        0.        , 0.33386351, 0.3913111 , 0.37400542, 0.44411308,\n",
       "        0.39602498, 0.34581295, 0.48985704, 0.60872468, 0.46103076,\n",
       "        0.39189062, 0.37659742, 0.34470817, 0.35975859, 0.40657997,\n",
       "        0.3966117 , 0.37780494, 0.42725363, 0.41229895],\n",
       "       [0.80386098, 0.44089934, 0.48663997, 0.45341551, 0.45302963,\n",
       "        0.43369483, 0.40568978, 0.48375982, 0.43680435, 0.35839204,\n",
       "        0.33386351, 0.        , 0.34995931, 0.40098008, 0.4419759 ,\n",
       "        0.41143549, 0.36448888, 0.50920714, 0.52109039, 0.43069213,\n",
       "        0.39683783, 0.34634183, 0.36534654, 0.3787079 , 0.37136145,\n",
       "        0.3987783 , 0.3609761 , 0.40244582, 0.41186792],\n",
       "       [0.73586541, 0.35729797, 0.47002208, 0.43594888, 0.41826953,\n",
       "        0.43547568, 0.41201271, 0.35139289, 0.38761698, 0.37368121,\n",
       "        0.3913111 , 0.34995931, 0.        , 0.36317759, 0.45061495,\n",
       "        0.33015638, 0.3449253 , 0.44919597, 0.41851895, 0.3943393 ,\n",
       "        0.35650389, 0.35146305, 0.34416669, 0.33811248, 0.30400337,\n",
       "        0.31314064, 0.34036111, 0.36625594, 0.43087054],\n",
       "       [0.82189191, 0.46270388, 0.56706566, 0.35707462, 0.34281709,\n",
       "        0.42238937, 0.41487306, 0.40517603, 0.45817345, 0.44606977,\n",
       "        0.37400542, 0.40098008, 0.36317759, 0.        , 0.51140856,\n",
       "        0.31171805, 0.34076736, 0.49176199, 0.48400337, 0.46742943,\n",
       "        0.37270682, 0.36234751, 0.34105487, 0.36670701, 0.38869617,\n",
       "        0.28607735, 0.30012655, 0.3734393 , 0.43460478],\n",
       "       [0.78661849, 0.49535204, 0.5098998 , 0.55638552, 0.51053681,\n",
       "        0.45001948, 0.45635526, 0.55920071, 0.47069596, 0.51117159,\n",
       "        0.44411308, 0.4419759 , 0.45061495, 0.51140856, 0.        ,\n",
       "        0.51551207, 0.44914497, 0.57029858, 0.60638816, 0.54010851,\n",
       "        0.49309653, 0.45242559, 0.44891361, 0.44892111, 0.4479273 ,\n",
       "        0.48846121, 0.47289955, 0.49270868, 0.51244621],\n",
       "       [0.80779135, 0.38946317, 0.55685152, 0.40957279, 0.38850298,\n",
       "        0.42922218, 0.4082709 , 0.41580265, 0.42500415, 0.41471694,\n",
       "        0.39602498, 0.41143549, 0.33015638, 0.31171805, 0.51551207,\n",
       "        0.        , 0.37077684, 0.45239833, 0.47812334, 0.44176706,\n",
       "        0.3571474 , 0.37295996, 0.36707837, 0.38266923, 0.39776703,\n",
       "        0.33244603, 0.32941904, 0.37541829, 0.43502598],\n",
       "       [0.82620195, 0.43753545, 0.5076813 , 0.45154444, 0.39857866,\n",
       "        0.41639368, 0.41437604, 0.45369646, 0.40259368, 0.40960983,\n",
       "        0.34581295, 0.36448888, 0.3449253 , 0.34076736, 0.44914497,\n",
       "        0.37077684, 0.        , 0.5025459 , 0.53610351, 0.47864796,\n",
       "        0.39399457, 0.33040416, 0.02385288, 0.36370628, 0.38957365,\n",
       "        0.34045842, 0.32700489, 0.39496424, 0.46196126],\n",
       "       [0.84721065, 0.55607284, 0.63881949, 0.5381061 , 0.53029653,\n",
       "        0.51135434, 0.56123534, 0.47166683, 0.46959439, 0.56238409,\n",
       "        0.48985704, 0.50920714, 0.44919597, 0.49176199, 0.57029858,\n",
       "        0.45239833, 0.5025459 , 0.        , 0.58579123, 0.52605776,\n",
       "        0.45537267, 0.52200734, 0.50084779, 0.46737974, 0.49527251,\n",
       "        0.43483502, 0.51833228, 0.5111584 , 0.50316917],\n",
       "       [0.74535006, 0.41842588, 0.59304551, 0.56209852, 0.5841056 ,\n",
       "        0.58577359, 0.50162678, 0.50560109, 0.56261251, 0.54363569,\n",
       "        0.60872468, 0.52109039, 0.41851895, 0.48400337, 0.60638816,\n",
       "        0.47812334, 0.53610351, 0.58579123, 0.        , 0.52063968,\n",
       "        0.48105946, 0.51639499, 0.53698614, 0.50476044, 0.49355165,\n",
       "        0.4831394 , 0.50593142, 0.46218704, 0.52776571],\n",
       "       [0.71985116, 0.43023312, 0.55964039, 0.45282183, 0.50240731,\n",
       "        0.53425127, 0.47384507, 0.51436627, 0.49298056, 0.40736342,\n",
       "        0.46103076, 0.43069213, 0.3943393 , 0.46742943, 0.54010851,\n",
       "        0.44176706, 0.47864796, 0.52605776, 0.52063968, 0.        ,\n",
       "        0.44320098, 0.42054234, 0.47858651, 0.47492417, 0.40859842,\n",
       "        0.45231809, 0.46314782, 0.40384357, 0.45692899],\n",
       "       [0.77473069, 0.43068163, 0.49763255, 0.41107901, 0.39149455,\n",
       "        0.44971759, 0.43479928, 0.41175209, 0.41594099, 0.43429856,\n",
       "        0.39189062, 0.39683783, 0.35650389, 0.37270682, 0.49309653,\n",
       "        0.3571474 , 0.39399457, 0.45537267, 0.48105946, 0.44320098,\n",
       "        0.        , 0.37014482, 0.38853968, 0.39344362, 0.39183596,\n",
       "        0.33679492, 0.3901385 , 0.32906635, 0.41334285],\n",
       "       [0.78996276, 0.40391503, 0.46510911, 0.42587756, 0.39140535,\n",
       "        0.44101123, 0.41774575, 0.49186946, 0.38637954, 0.37874598,\n",
       "        0.37659742, 0.34634183, 0.35146305, 0.36234751, 0.45242559,\n",
       "        0.37295996, 0.33040416, 0.52200734, 0.51639499, 0.42054234,\n",
       "        0.37014482, 0.        , 0.32944041, 0.36095766, 0.39341624,\n",
       "        0.36313336, 0.31560903, 0.35114919, 0.44951869],\n",
       "       [0.82570055, 0.43853906, 0.50762815, 0.45139238, 0.39640864,\n",
       "        0.4157523 , 0.41045651, 0.45167122, 0.40000082, 0.40780563,\n",
       "        0.34470817, 0.36534654, 0.34416669, 0.34105487, 0.44891361,\n",
       "        0.36707837, 0.02385288, 0.50084779, 0.53698614, 0.47858651,\n",
       "        0.38853968, 0.32944041, 0.        , 0.36248152, 0.38929865,\n",
       "        0.33825465, 0.32329057, 0.39310501, 0.45897522],\n",
       "       [0.82730643, 0.45247265, 0.50461923, 0.46015976, 0.40434653,\n",
       "        0.43435829, 0.39695884, 0.41480963, 0.36557952, 0.40824098,\n",
       "        0.35975859, 0.3787079 , 0.33811248, 0.36670701, 0.44892111,\n",
       "        0.38266923, 0.36370628, 0.46737974, 0.50476044, 0.47492417,\n",
       "        0.39344362, 0.36095766, 0.36248152, 0.        , 0.39287674,\n",
       "        0.38969032, 0.33371731, 0.41084748, 0.46238267],\n",
       "       [0.73669154, 0.43057345, 0.50588143, 0.44157808, 0.45861433,\n",
       "        0.50122244, 0.46401496, 0.39675269, 0.43663609, 0.38206486,\n",
       "        0.40657997, 0.37136145, 0.30400337, 0.38869617, 0.4479273 ,\n",
       "        0.39776703, 0.38957365, 0.49527251, 0.49355165, 0.40859842,\n",
       "        0.39183596, 0.39341624, 0.38929865, 0.39287674, 0.        ,\n",
       "        0.34855038, 0.38972022, 0.38515211, 0.46098086],\n",
       "       [0.76258229, 0.43940481, 0.53727933, 0.36340736, 0.35041728,\n",
       "        0.42634095, 0.43924946, 0.36819425, 0.4234039 , 0.42716985,\n",
       "        0.3966117 , 0.3987783 , 0.31314064, 0.28607735, 0.48846121,\n",
       "        0.33244603, 0.34045842, 0.43483502, 0.4831394 , 0.45231809,\n",
       "        0.33679492, 0.36313336, 0.33825465, 0.38969032, 0.34855038,\n",
       "        0.        , 0.35049722, 0.34673145, 0.44148933],\n",
       "       [0.83679798, 0.4323332 , 0.51974118, 0.42350471, 0.37222582,\n",
       "        0.41405349, 0.3767467 , 0.46242918, 0.42387014, 0.37830292,\n",
       "        0.37780494, 0.3609761 , 0.34036111, 0.30012655, 0.47289955,\n",
       "        0.32941904, 0.32700489, 0.51833228, 0.50593142, 0.46314782,\n",
       "        0.3901385 , 0.31560903, 0.32329057, 0.33371731, 0.38972022,\n",
       "        0.35049722, 0.        , 0.4136018 , 0.46186591],\n",
       "       [0.6983311 , 0.41300473, 0.51321606, 0.36974788, 0.41427896,\n",
       "        0.47057223, 0.42963723, 0.44208143, 0.46012425, 0.43819327,\n",
       "        0.42725363, 0.40244582, 0.36625594, 0.3734393 , 0.49270868,\n",
       "        0.37541829, 0.39496424, 0.5111584 , 0.46218704, 0.40384357,\n",
       "        0.32906635, 0.35114919, 0.39310501, 0.41084748, 0.38515211,\n",
       "        0.34673145, 0.4136018 , 0.        , 0.38291361],\n",
       "       [0.73510364, 0.48517689, 0.58016918, 0.43667951, 0.46539476,\n",
       "        0.47541453, 0.43660623, 0.50258214, 0.50135836, 0.48659282,\n",
       "        0.41229895, 0.41186792, 0.43087054, 0.43460478, 0.51244621,\n",
       "        0.43502598, 0.46196126, 0.50316917, 0.52776571, 0.45692899,\n",
       "        0.41334285, 0.44951869, 0.45897522, 0.46238267, 0.46098086,\n",
       "        0.44148933, 0.46186591, 0.38291361, 0.        ]])"
      ]
     },
     "execution_count": 6,
     "metadata": {},
     "output_type": "execute_result"
    }
   ],
   "source": [
    "dist"
   ]
  },
  {
   "cell_type": "code",
   "execution_count": 7,
   "metadata": {},
   "outputs": [],
   "source": [
    "out = open('dist.txt', 'w')\n",
    "for i in range(dist.shape[0]):\n",
    "    for j in range(dist.shape[1]):\n",
    "        out.write(str(dist[i, j]).ljust(20) + ' ')\n",
    "    out.write('\\n')\n",
    "out.close()"
   ]
  },
  {
   "cell_type": "code",
   "execution_count": 8,
   "metadata": {},
   "outputs": [
    {
     "data": {
      "text/plain": [
       "<Figure size 640x480 with 1 Axes>"
      ]
     },
     "metadata": {},
     "output_type": "display_data"
    }
   ],
   "source": [
    "import matplotlib.pyplot as plt\n",
    "\n",
    "plt.plot(centroids[:,2], centroids[:,3], 'o')\n",
    "plt.show()"
   ]
  },
  {
   "cell_type": "code",
   "execution_count": 9,
   "metadata": {},
   "outputs": [],
   "source": [
    "from sklearn.mixture import GaussianMixture\n",
    "gmm = GaussianMixture(n_components=5).fit(centroids)\n",
    "labels = gmm.predict(centroids)"
   ]
  },
  {
   "cell_type": "code",
   "execution_count": 10,
   "metadata": {},
   "outputs": [
    {
     "name": "stdout",
     "output_type": "stream",
     "text": [
      "1969     Five Stars Arising                                 0\n",
      "1986     Count On Me Singapore                              0\n",
      "1987     We Are Singapore                                   0\n",
      "1997     Future In My Dreams                                0\n",
      "1999-2   Together                                           0\n",
      "2002     We Will Get There                                  0\n",
      "2004     Home                                               0\n",
      "2005     Reach Out For The Skies                            0\n",
      "2006     My Island Home                                     0\n",
      "2008     Shine For Singapore                                0\n",
      "2010     Song for Singapore                                 0\n",
      "2013     One Singapore                                      0\n",
      "1999     Moments of Magic                                   1\n",
      "2000     Shine On Me                                        1\n",
      "2015     Our Singapore                                      1\n",
      "1967     Singapore Town                                     2\n",
      "1984     Stand Up for Singapore                             2\n",
      "1990     One People, One Nation, One Singapore              2\n",
      "2007     There's No Place I'd Rather Be                     2\n",
      "2007-2   Will You                                           2\n",
      "2009     What Do You See?                                   2\n",
      "2016     Tomorrow's Here Today                              2\n",
      "2017     Because It's Singapore                             2\n",
      "1991     It's the Little Things                             3\n",
      "2001     Where I Belong                                     3\n",
      "2003     One United People                                  3\n",
      "2011     In A Heartbeat                                     3\n",
      "2012     Love At First Light                                3\n",
      "1962     Singapura, Sunny Island                            4\n"
     ]
    }
   ],
   "source": [
    "for s, l in sorted(zip(song_years, labels), key = lambda x: x[1]):\n",
    "    print(s.ljust(8), song_names[s].ljust(50),l)"
   ]
  },
  {
   "cell_type": "code",
   "execution_count": 11,
   "metadata": {},
   "outputs": [
    {
     "ename": "ImportError",
     "evalue": "No module named 'joblib'",
     "output_type": "error",
     "traceback": [
      "\u001b[0;31m---------------------------------------------------------------------------\u001b[0m",
      "\u001b[0;31mImportError\u001b[0m                               Traceback (most recent call last)",
      "\u001b[0;32m<ipython-input-11-c034d66526bf>\u001b[0m in \u001b[0;36m<module>\u001b[0;34m\u001b[0m\n\u001b[0;32m----> 1\u001b[0;31m \u001b[0;32mfrom\u001b[0m \u001b[0mjoblib\u001b[0m \u001b[0;32mimport\u001b[0m \u001b[0mdump\u001b[0m\u001b[0;34m,\u001b[0m \u001b[0mload\u001b[0m\u001b[0;34m\u001b[0m\u001b[0m\n\u001b[0m\u001b[1;32m      2\u001b[0m \u001b[0;31m#dump(gmm, 'gmm-5cluster-best.joblib')\u001b[0m\u001b[0;34m\u001b[0m\u001b[0;34m\u001b[0m\u001b[0m\n",
      "\u001b[0;31mImportError\u001b[0m: No module named 'joblib'"
     ]
    }
   ],
   "source": [
    "from joblib import dump, load\n",
    "#dump(gmm, 'gmm-5cluster-best.joblib')"
   ]
  },
  {
   "cell_type": "code",
   "execution_count": 12,
   "metadata": {},
   "outputs": [
    {
     "data": {
      "text/plain": [
       "array([4, 2, 2, 3, 3, 1, 1, 0, 1, 2, 1, 1, 2, 1, 2, 1, 1, 0, 2, 2, 1, 1,\n",
       "       1, 1, 2, 1, 1, 3, 3], dtype=int32)"
      ]
     },
     "execution_count": 12,
     "metadata": {},
     "output_type": "execute_result"
    }
   ],
   "source": [
    "from sklearn.cluster import KMeans\n",
    "kmeans = KMeans(n_clusters=5).fit(centroids)\n",
    "kmeans.labels_"
   ]
  },
  {
   "cell_type": "code",
   "execution_count": 13,
   "metadata": {},
   "outputs": [
    {
     "name": "stdout",
     "output_type": "stream",
     "text": [
      "1991     It's the Little Things                             0\n",
      "2006     My Island Home                                     0\n",
      "1987     We Are Singapore                                   1\n",
      "1990     One People, One Nation, One Singapore              1\n",
      "1997     Future In My Dreams                                1\n",
      "1999-2   Together                                           1\n",
      "2000     Shine On Me                                        1\n",
      "2002     We Will Get There                                  1\n",
      "2004     Home                                               1\n",
      "2005     Reach Out For The Skies                            1\n",
      "2008     Shine For Singapore                                1\n",
      "2009     What Do You See?                                   1\n",
      "2010     Song for Singapore                                 1\n",
      "2011     In A Heartbeat                                     1\n",
      "2013     One Singapore                                      1\n",
      "2015     Our Singapore                                      1\n",
      "1967     Singapore Town                                     2\n",
      "1969     Five Stars Arising                                 2\n",
      "1999     Moments of Magic                                   2\n",
      "2001     Where I Belong                                     2\n",
      "2003     One United People                                  2\n",
      "2007     There's No Place I'd Rather Be                     2\n",
      "2007-2   Will You                                           2\n",
      "2012     Love At First Light                                2\n",
      "1984     Stand Up for Singapore                             3\n",
      "1986     Count On Me Singapore                              3\n",
      "2016     Tomorrow's Here Today                              3\n",
      "2017     Because It's Singapore                             3\n",
      "1962     Singapura, Sunny Island                            4\n"
     ]
    }
   ],
   "source": [
    "for s, l in sorted(zip(song_years, kmeans.labels_), key = lambda x: x[1]):\n",
    "    print(s.ljust(8), song_names[s].ljust(50),l)"
   ]
  },
  {
   "cell_type": "code",
   "execution_count": 14,
   "metadata": {},
   "outputs": [
    {
     "ename": "NameError",
     "evalue": "name 'sentences_split' is not defined",
     "output_type": "error",
     "traceback": [
      "\u001b[0;31m---------------------------------------------------------------------------\u001b[0m",
      "\u001b[0;31mNameError\u001b[0m                                 Traceback (most recent call last)",
      "\u001b[0;32m<ipython-input-14-6754a44710a8>\u001b[0m in \u001b[0;36m<module>\u001b[0;34m\u001b[0m\n\u001b[1;32m      1\u001b[0m \u001b[0;34m\u001b[0m\u001b[0m\n\u001b[1;32m      2\u001b[0m \u001b[0;32mimport\u001b[0m \u001b[0mgensim\u001b[0m\u001b[0;34m\u001b[0m\u001b[0m\n\u001b[0;32m----> 3\u001b[0;31m \u001b[0mmodel\u001b[0m \u001b[0;34m=\u001b[0m \u001b[0mgensim\u001b[0m\u001b[0;34m.\u001b[0m\u001b[0mmodels\u001b[0m\u001b[0;34m.\u001b[0m\u001b[0mWord2Vec\u001b[0m\u001b[0;34m(\u001b[0m\u001b[0msentences_split\u001b[0m\u001b[0;34m,\u001b[0m \u001b[0mmin_count\u001b[0m\u001b[0;34m=\u001b[0m\u001b[0;36m2\u001b[0m\u001b[0;34m)\u001b[0m\u001b[0;34m\u001b[0m\u001b[0m\n\u001b[0m\u001b[1;32m      4\u001b[0m \u001b[0;34m\u001b[0m\u001b[0m\n\u001b[1;32m      5\u001b[0m \u001b[0;32mfrom\u001b[0m \u001b[0mmatplotlib\u001b[0m \u001b[0;32mimport\u001b[0m \u001b[0mpyplot\u001b[0m \u001b[0;32mas\u001b[0m \u001b[0mplt\u001b[0m\u001b[0;34m\u001b[0m\u001b[0m\n",
      "\u001b[0;31mNameError\u001b[0m: name 'sentences_split' is not defined"
     ]
    }
   ],
   "source": [
    "\n",
    "import gensim\n",
    "model = gensim.models.Word2Vec(sentences_split, min_count=2)\n",
    "\n",
    "from matplotlib import pyplot as plt\n",
    "from scipy.cluster.hierarchy import dendrogram, linkage\n",
    "\n",
    "l = linkage(model.wv.syn0, method='complete', metric='seuclidean')\n",
    "\n",
    "# calculate full dendrogram\n",
    "plt.figure(figsize=(25, 10))\n",
    "plt.title('Hierarchical Clustering Dendrogram')\n",
    "plt.ylabel('word')\n",
    "plt.xlabel('distance')\n",
    "\n",
    "dendrogram(\n",
    "    l,\n",
    "    leaf_rotation=90.,  # rotates the x axis labels\n",
    "    leaf_font_size=16.,  # font size for the x axis labels\n",
    "    orientation='left',\n",
    "    leaf_label_func=lambda v: str(model.wv.index2word[v])\n",
    ")\n",
    "plt.show()"
   ]
  },
  {
   "cell_type": "code",
   "execution_count": 22,
   "metadata": {},
   "outputs": [
    {
     "data": {
      "image/png": "[encoded data removed]",
      "text/plain": [
       "<Figure size 720x720 with 1 Axes>"
      ]
     },
     "metadata": {
      "needs_background": "light"
     },
     "output_type": "display_data"
    },
    {
     "name": "stdout",
     "output_type": "stream",
     "text": [
      "1962.txt 0 1967.txt 1 1969.txt 2 1984.txt 3 1986.txt 4 1987.txt 5 1990.txt 6 1991.txt 7 1997.txt 8 1999-2.txt 9 1999.txt 10 2000.txt 11 2001.txt 12 2002.txt 13 2003.txt 14 2004.txt 15 2005.txt 16 2006.txt 17 2007-2.txt 18 2007.txt 19 2008.txt 20 2009.txt 21 2010.txt 22 2011.txt 23 2012.txt 24 2013.txt 25 2015.txt 26 2016.txt 27 2017.txt 28 "
     ]
    }
   ],
   "source": [
    "from matplotlib import pyplot as plt\n",
    "from scipy.cluster.hierarchy import dendrogram, linkage\n",
    "l = linkage(centroids, method='complete', metric='seuclidean')\n",
    "\n",
    "# calculate full dendrogram\n",
    "plt.figure(figsize=(10, 10))\n",
    "plt.title('Hierarchical Clustering Dendrogram')\n",
    "plt.ylabel('word')\n",
    "plt.xlabel('distance')\n",
    "\n",
    "dendrogram(\n",
    "    l,\n",
    "    leaf_rotation=90.,  # rotates the x axis labels\n",
    "    leaf_font_size=16.,  # font size for the x axis labels\n",
    "    orientation='left',\n",
    ")\n",
    "plt.show()\n",
    "\n",
    "songs = sorted(os.listdir('songs'))\n",
    "for i in range(len(songs)):\n",
    "    print(songs[i], i, end=' ')"
   ]
  },
  {
   "cell_type": "code",
   "execution_count": null,
   "metadata": {},
   "outputs": [],
   "source": []
  }
 ],
 "metadata": {
  "kernelspec": {
   "display_name": "Python 3",
   "language": "python",
   "name": "python3"
  },
  "language_info": {
   "codemirror_mode": {
    "name": "ipython",
    "version": 3
   },
   "file_extension": ".py",
   "mimetype": "text/x-python",
   "name": "python",
   "nbconvert_exporter": "python",
   "pygments_lexer": "ipython3",
   "version": "3.5.4"
  }
 },
 "nbformat": 4,
 "nbformat_minor": 2
}
